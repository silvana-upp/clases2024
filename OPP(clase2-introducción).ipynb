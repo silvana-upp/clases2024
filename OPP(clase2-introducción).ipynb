{
 "cells": [
  {
   "cell_type": "raw",
   "id": "eb28cc44-ac23-4271-b8f0-e560770a0dc7",
   "metadata": {},
   "source": [
    "Accesar valores de los diccionarios:"
   ]
  },
  {
   "cell_type": "code",
   "execution_count": null,
   "id": "db6fc4a6-1591-4c8b-92f9-80e01c71d138",
   "metadata": {
    "panel-layout": {
     "height": 0,
     "visible": true,
     "width": 100
    }
   },
   "outputs": [],
   "source": [
    "piña = {'color': 'amarillo'}\n",
    "print(piña['color'])\n"
   ]
  },
  {
   "cell_type": "code",
   "execution_count": null,
   "id": "77cfca10-a2ca-476e-8651-728bc681689d",
   "metadata": {
    "panel-layout": {
     "height": 0,
     "visible": true,
     "width": 100
    }
   },
   "outputs": [],
   "source": [
    "c=piña['color'] #asigna un valor del diccionario a una variable\n",
    "print(f'la piña es color {c}')"
   ]
  },
  {
   "cell_type": "raw",
   "id": "4e2d00f3-0342-4b4e-b505-9c5aa3b9c688",
   "metadata": {},
   "source": [
    "Añadir nuevos pares clave-valor"
   ]
  },
  {
   "cell_type": "code",
   "execution_count": null,
   "id": "44026ec0-0a2b-4023-bd1b-20626cd1852d",
   "metadata": {},
   "outputs": [],
   "source": [
    "piña['peso'] = 500\n",
    "piña['es_fruta'] = 'si'\n",
    "print(piña)"
   ]
  },
  {
   "cell_type": "raw",
   "id": "40907920-ad85-41ae-96c3-08dcd551c8eb",
   "metadata": {},
   "source": [
    "Modificación de valores en un diccionario"
   ]
  },
  {
   "cell_type": "code",
   "execution_count": null,
   "id": "3d47e6dc-a927-45d2-a1f0-c5aee2fcd4c9",
   "metadata": {},
   "outputs": [],
   "source": [
    "piña['color'] = 'verde'\n",
    "print(piña)"
   ]
  },
  {
   "cell_type": "code",
   "execution_count": null,
   "id": "4366a6da-498e-45d6-9e8e-8a6729f1ce74",
   "metadata": {},
   "outputs": [],
   "source": [
    "#Lista de diccionarios\n",
    "piña = {'color': 'amarillo','peso':200}\n",
    "mandarina = {'color': 'naranja','peso':50}\n",
    "manzana = {'color': 'rojo','peso':25}\n",
    "\n",
    "frutas=[piña, mandarina,manzana]\n",
    "for i in frutas:\n",
    "    print(i['color'])\n",
    "print(frutas)\n"
   ]
  },
  {
   "cell_type": "code",
   "execution_count": null,
   "id": "839e2599-375b-4cb3-8b7e-43d99a95636c",
   "metadata": {
    "scrolled": true
   },
   "outputs": [],
   "source": [
    "#A Listas en un diccionario \n",
    "#Guardar informacion sobre una pizza siendo ordenada\n",
    "pizza = {\n",
    "'orilla': 'rellena',\n",
    "'ingredientes': ['queso', 'champiñones'],\n",
    "}\n",
    "# Summarize the order.\n",
    "print(f\"Ordenaste una pizza con orilla {pizza['orilla']} \"\n",
    "\"Con los siguientes ingredientes:\")\n",
    "for topping in pizza['ingredientes']:\n",
    "    print(f\"\\t{topping}\")"
   ]
  },
  {
   "cell_type": "code",
   "execution_count": null,
   "id": "87904bfd-8858-4450-9873-741bab04ee77",
   "metadata": {},
   "outputs": [],
   "source": [
    "#Un diccionario en un diccionario\n",
    "users = {\n",
    "'aeinstein': {\n",
    "'first': 'albert',\n",
    "'last': 'einstein',\n",
    "'location': 'princeton',\n",
    "},\n",
    "'mcurie': {\n",
    "'first': 'marie',\n",
    "'last': 'curie',\n",
    "'location': 'paris',\n",
    "},\n",
    "}\n",
    "for username, user_info in users.items():\n",
    "    print(f\"\\nUsername: {username}\")\n",
    "    full_name = f\"{user_info['first']} {user_info['last']}\"\n",
    "    location = user_info['location']\n",
    "    print(f\"\\tFull name: {full_name.title()}\")\n",
    "    print(f\"\\tLocation: {location.title()}\")"
   ]
  },
  {
   "cell_type": "raw",
   "id": "37e8e6ab-623a-416d-b569-3664ca9d224b",
   "metadata": {},
   "source": [
    "Valores de retorno en una función"
   ]
  },
  {
   "cell_type": "raw",
   "id": "27c2eb3a-14bb-42a7-8339-46084f1a1008",
   "metadata": {},
   "source": [
    "Devolver un valor simple"
   ]
  },
  {
   "cell_type": "code",
   "execution_count": null,
   "id": "148013c7-8584-4ab5-becb-073c5f89aa5b",
   "metadata": {},
   "outputs": [],
   "source": [
    "def obtener_precio_manzana():\n",
    "  \"\"\"Devuelve el precio de una manzana.\"\"\"\n",
    "  return 1.50\n",
    "\n",
    "precio = obtener_precio_manzana()\n",
    "print(f\"El precio de la manzana es: ${precio}\")"
   ]
  },
  {
   "cell_type": "raw",
   "id": "9f7aa52d-e9ad-4d9d-a0c4-73e3ed48bad1",
   "metadata": {},
   "source": [
    "Convertir un argumento en opcional"
   ]
  },
  {
   "cell_type": "code",
   "execution_count": null,
   "id": "40d09be7-9605-4d87-be9f-aaf5a6f261a7",
   "metadata": {},
   "outputs": [],
   "source": [
    "def calcular_descuento(precio, descuento=0):\n",
    "  \"\"\"Calcula el precio con descuento.\n",
    "  Args:\n",
    "    precio: El precio original.\n",
    "    descuento: El porcentaje de descuento (opcional, por defecto 0).\n",
    "  \"\"\"\n",
    "  return precio * (1 - descuento / 100)\n",
    "\n",
    "precio_con_descuento = calcular_descuento(10, 20)  # 20% de descuento\n",
    "precio_sin_descuento = calcular_descuento(10)  # Sin descuento\n",
    "print(f\"Precio con descuento: ${precio_con_descuento}\")\n",
    "print(f\"Precio sin descuento: ${precio_sin_descuento}\")"
   ]
  },
  {
   "cell_type": "code",
   "execution_count": null,
   "id": "b19c3cfc-bc4f-4cad-955b-a14040d48d61",
   "metadata": {},
   "outputs": [],
   "source": [
    "Retornar un diccionario "
   ]
  },
  {
   "cell_type": "code",
   "execution_count": null,
   "id": "0288dbe7-26ae-484e-bcb0-dacc170bb022",
   "metadata": {},
   "outputs": [],
   "source": [
    "def obtener_informacion_fruta(nombre):\n",
    "  \"\"\"Devuelve un diccionario con información sobre una fruta.\n",
    "  Args:\n",
    "    nombre: El nombre de la fruta.\n",
    "  \"\"\"\n",
    "  frutas = {\n",
    "      \"manzana\": {\"color\": \"rojo\", \"sabor\": \"dulce\"},\n",
    "      \"banana\": {\"color\": \"amarillo\", \"sabor\": \"dulce\"},\n",
    "      \"limon\": {\"color\": \"verde\", \"sabor\": \"ácido\"}\n",
    "  }\n",
    "  if nombre in frutas:\n",
    "    return frutas[nombre]\n",
    "  else:\n",
    "    return {\"color\": \"desconocido\", \"sabor\": \"desconocido\"}\n",
    "\n",
    "info_manzana = obtener_informacion_fruta(\"manzana\")\n",
    "info_limon = obtener_informacion_fruta(\"limon\")['color']\n",
    "print(f\"Información de la manzana: {info_manzana}\")\n",
    "print(f\"Información del color: {info_limon}\")"
   ]
  },
  {
   "cell_type": "code",
   "execution_count": null,
   "id": "1e920bb0-38b9-4d99-99cf-6c4ac9155f7b",
   "metadata": {},
   "outputs": [],
   "source": [
    "Función que devuelve múltiples valores:"
   ]
  },
  {
   "cell_type": "code",
   "execution_count": 7,
   "id": "1535215e-1371-4da8-8492-c42063eec3e0",
   "metadata": {},
   "outputs": [
    {
     "name": "stdout",
     "output_type": "stream",
     "text": [
      "Mitad 1: fruta no divisible\n",
      "Mitad 2: fruta no divisible\n"
     ]
    }
   ],
   "source": [
    "def dividir_fruta(nombre):\n",
    "  \"\"\"Divide una fruta en dos mitades (solo para frutas pares).\"\"\"\n",
    "  if nombre == \"manzana\":\n",
    "    return \"media manzana\", \"media manzana\"\n",
    "  else:\n",
    "    return \"fruta no divisible\", \"fruta no divisible\"\n",
    "\n",
    "mitad1, mitad2 = dividir_fruta(\"fresa\")\n",
    "print(f\"Mitad 1: {mitad1}\")\n",
    "print(f\"Mitad 2: {mitad2}\")"
   ]
  },
  {
   "cell_type": "raw",
   "id": "2bd06755-9793-4e83-8266-af30559fa856",
   "metadata": {},
   "source": [
    "Función que devuelve una lista:"
   ]
  },
  {
   "cell_type": "code",
   "execution_count": 3,
   "id": "4ca3a937-8c96-40da-85d5-4986c43d1455",
   "metadata": {},
   "outputs": [
    {
     "name": "stdout",
     "output_type": "stream",
     "text": [
      "Frutas rojas: ['manzana', 'fresa']\n"
     ]
    }
   ],
   "source": [
    "def obtener_frutas_por_color(color):\n",
    "  \"\"\"Devuelve una lista de frutas de un color específico.\"\"\"\n",
    "  frutas = {\n",
    "      \"manzana\": \"rojo\",\n",
    "      \"banana\": \"amarillo\",\n",
    "      \"limon\": \"verde\",\n",
    "      \"fresa\": \"rojo\"\n",
    "  }\n",
    "  frutas_color = []\n",
    "  for fruta, color_fruta in frutas.items():\n",
    "    if color_fruta == color:\n",
    "      frutas_color.append(fruta)\n",
    "  return frutas_color\n",
    "\n",
    "frutas_rojas = obtener_frutas_por_color(\"rojo\")\n",
    "print(f\"Frutas rojas: {frutas_rojas}\")"
   ]
  }
 ],
 "metadata": {
  "kernelspec": {
   "display_name": "Python 3 (ipykernel)",
   "language": "python",
   "name": "python3"
  },
  "language_info": {
   "codemirror_mode": {
    "name": "ipython",
    "version": 3
   },
   "file_extension": ".py",
   "mimetype": "text/x-python",
   "name": "python",
   "nbconvert_exporter": "python",
   "pygments_lexer": "ipython3",
   "version": "3.12.7"
  },
  "panel-cell-order": [
   "db6fc4a6-1591-4c8b-92f9-80e01c71d138",
   "77cfca10-a2ca-476e-8651-728bc681689d"
  ]
 },
 "nbformat": 4,
 "nbformat_minor": 5
}
