{
 "cells": [
  {
   "cell_type": "raw",
   "id": "146f564e-f729-4126-825f-a585e784b083",
   "metadata": {},
   "source": [
    "En Python, las estructuras de control permiten tomar decisiones y repetir código. \n",
    "Se dividen en \n",
    "-Estructuras de selección (if, if-else, if-elif-else)\n",
    "-Estructuras de repetición (while, for)."
   ]
  },
  {
   "cell_type": "code",
   "execution_count": null,
   "id": "29aff879-813c-479e-85ac-0e7a6a415079",
   "metadata": {},
   "outputs": [],
   "source": [
    "class Persona:\n",
    "    def __init__(self, nombre, edad):\n",
    "        self.nombre = nombre\n",
    "        self.edad = edad\n",
    "\n",
    "    def es_mayor_de_edad(self):\n",
    "        if self.edad >= 18:\n",
    "            return f\"{self.nombre} es mayor de edad.\" #tenemos el return dentro de los condicionales\n",
    "        else:\n",
    "            return f\"{self.nombre} es menor de edad.\" #tenemos el return dentro de los condicionales\n",
    "\n",
    "# Uso de la clase\n",
    "persona1 = Persona(\"Ana\", 20)\n",
    "print(persona1.es_mayor_de_edad())\n",
    "persona2 = Persona(\"Luis\", 15)\n",
    "print(persona2.es_mayor_de_edad())"
   ]
  },
  {
   "cell_type": "raw",
   "id": "721b0e1d-4040-45f6-b1b2-b1dae90d46d4",
   "metadata": {},
   "source": [
    "1–––––––Ejercicio–––––––\n",
    "Haz un programa que pida la temperatura en Celsius y muestre un mensaje indicando si hace frío (menos de 20°C), está templado (entre 20°C y 30°C) o hace calor (más de 30°C)."
   ]
  },
  {
   "cell_type": "code",
   "execution_count": null,
   "id": "61ebef7b-0791-4fce-ac11-883612c5dafc",
   "metadata": {},
   "outputs": [],
   "source": [
    "##------If, If-Else,  -------##\n",
    "class Contador:\n",
    "    def __init__(self, limite):\n",
    "        self.limite = limite\n",
    "\n",
    "    def contar(self):\n",
    "        contador = 1\n",
    "        while contador <= self.limite:\n",
    "            print(f\"Contando: {contador}\")\n",
    "            contador += 1\n",
    "\n",
    "# Uso de la clase\n",
    "c = Contador(5)\n",
    "c.contar()"
   ]
  },
  {
   "cell_type": "raw",
   "id": "a7cac899-99a7-4ce9-96bd-35fbc0be7757",
   "metadata": {},
   "source": [
    "2–––––––Ejercicio–––––––\n",
    "Crea una clase AdivinaNumero que pida un número al usuario y le dé pistas hasta que adivine un número secreto.\n",
    " "
   ]
  },
  {
   "cell_type": "code",
   "execution_count": null,
   "id": "1a025f5b-d0a3-45d8-8aa8-1b1bfba0b666",
   "metadata": {},
   "outputs": [],
   "source": [
    "'''\n",
    "Algoritmos Controlados por Contador, Centinela y Anidación##\n",
    "Python no tiene do-while, pero se puede simular con un while que siempre ejecute al menos una vez.\n",
    "'''\n",
    "class ListaNumeros:\n",
    "    def __init__(self):\n",
    "        self.numeros = []\n",
    "\n",
    "    def agregar_numeros(self):\n",
    "        while True:\n",
    "            numero = int(input(\"Ingrese un número (0 para salir): \"))\n",
    "            if numero == 0:\n",
    "                break\n",
    "            self.numeros.append(numero)\n",
    "\n",
    "    def mostrar_numeros(self):\n",
    "        print(\"Números ingresados:\", self.numeros)\n",
    "\n",
    "# Uso de la clase\n",
    "lista = ListaNumeros()\n",
    "lista.agregar_numeros()\n",
    "lista.mostrar_numeros()"
   ]
  },
  {
   "cell_type": "raw",
   "id": "81cd5568-6d0e-43d9-bbfe-e1c9ca782874",
   "metadata": {},
   "source": [
    "3–––––––Ejercicio–––––––\n",
    "Crea una clase ListaEstudiantes que permita agregar nombres de estudiantes hasta que el usuario escriba \"fin\".\n",
    "al final imprimimos todos los nombres ingresados "
   ]
  },
  {
   "cell_type": "code",
   "execution_count": null,
   "id": "471df138-5ec3-44f6-aaa7-cfdfeaae4f5e",
   "metadata": {},
   "outputs": [],
   "source": [
    "##Repetición Controlada por Contador con Clases##\n",
    "class TablaMultiplicar:\n",
    "    def __init__(self, numero):\n",
    "        self.numero = numero\n",
    "\n",
    "    def imprimir_tabla(self):\n",
    "        for i in range(1, 11):\n",
    "            print(f\"{self.numero} x {i} = {self.numero * i}\")\n",
    "\n",
    "# Uso de la clase\n",
    "tabla = TablaMultiplicar(8)\n",
    "tabla.imprimir_tabla()"
   ]
  },
  {
   "cell_type": "raw",
   "id": "01d1e954-bab1-4471-9017-2c97aaa54a86",
   "metadata": {},
   "source": []
  },
  {
   "cell_type": "code",
   "execution_count": 1,
   "id": "e15f540d-4895-4966-a96d-ef1ee2d0fd27",
   "metadata": {},
   "outputs": [
    {
     "name": "stdout",
     "output_type": "stream",
     "text": [
      "12\n",
      "8\n",
      "20\n"
     ]
    }
   ],
   "source": [
    "'''\n",
    "Switch en Python con Diccionarios dentro de Clases##\n",
    "Python no tiene switch, pero se puede simular con un diccionario.\n",
    "'''\n",
    "class Calculadora:\n",
    "    def __init__(self, a, b):\n",
    "        self.a = a\n",
    "        self.b = b\n",
    "\n",
    "    def operar(self, operacion):\n",
    "        opciones = {\n",
    "            \"suma\": self.a + self.b,\n",
    "            \"resta\": self.a - self.b,\n",
    "            \"multiplicación\": self.a * self.b,\n",
    "            \"división\": self.a / self.b if self.b != 0 else \"Error: División por cero\"\n",
    "        }\n",
    "        return opciones.get(operacion, \"Operación no válida\")\n",
    "\n",
    "# Uso de la clase\n",
    "calc = Calculadora(10, 2)\n",
    "print(calc.operar(\"suma\"))\n",
    "print(calc.operar(\"resta\"))\n",
    "print(calc.operar(\"multiplicación\"))"
   ]
  },
  {
   "cell_type": "raw",
   "id": "b6ad3849-9ac4-4c1c-8c21-2412704c29de",
   "metadata": {},
   "source": [
    " 4–––––––Ejercicio–––––––\n",
    "Crea una clase DiasSemana que tome un número del 1 al 7 y devuelva el nombre del día de la semana."
   ]
  },
  {
   "cell_type": "code",
   "execution_count": null,
   "id": "76385862-5dd5-4c71-b49c-e3bb9f3a12e4",
   "metadata": {},
   "outputs": [],
   "source": []
  },
  {
   "cell_type": "code",
   "execution_count": 2,
   "id": "a6305355-2b6e-4c93-b700-b67dddfe62e8",
   "metadata": {},
   "outputs": [
    {
     "name": "stdout",
     "output_type": "stream",
     "text": [
      "Procesando el número 1\n",
      "Procesando el número 3\n",
      "Se encontró el número 5, se interrumpe el bucle.\n",
      "Bucle terminado.\n"
     ]
    }
   ],
   "source": [
    "\"\"\" Instrucción break y continue\n",
    "break interrumpe un bucle.\n",
    "continue salta a la siguiente iteración sin ejecutar el resto del código.\n",
    "\"\"\"\n",
    "\n",
    "numeros = [1, 2, 3, 4, 5, 6, 7, 8, 9, 10]\n",
    "\n",
    "for numero in numeros:\n",
    "    if numero == 5:\n",
    "        print(\"Se encontró el número 5, se interrumpe el bucle.\")\n",
    "        break  # Se interrumpe el bucle cuando se encuentra el número 5\n",
    "    if numero % 2 == 0:\n",
    "        continue  # Se salta a la siguiente iteración si el número es par\n",
    "    print(f\"Procesando el número {numero}\")\n",
    "\n",
    "print(\"Bucle terminado.\")"
   ]
  },
  {
   "cell_type": "raw",
   "id": "3b96d780-1b95-41cb-9c23-d169a2b2a062",
   "metadata": {},
   "source": [
    "5–––––––Ejercicio––––––– Filtrar números primos y contar intentos\n",
    "\n",
    "Escribe un programa que recorra los números del 1 al 100.\n",
    "El programa debe imprimir cada número primo que encuentre y contar cuántos números no primos ha encontrado antes de encontrar cada número primo.\n",
    "Utiliza la instrucción `continue` para saltar los números no primos\n",
    "y la instrucción `break` para detener la búsqueda de divisores."
   ]
  },
  {
   "cell_type": "code",
   "execution_count": 5,
   "id": "58c80615-b13f-43bd-9daf-98583c6b5f7a",
   "metadata": {},
   "outputs": [
    {
     "name": "stdout",
     "output_type": "stream",
     "text": [
      "[1, 2, 3, 4, 5, 6, 7, 8, 9, 10, 11, 12, 13, 14, 15, 16, 17, 18, 19, 20, 21, 22, 23, 24, 25, 26, 27, 28, 29, 30, 31, 32, 33, 34, 35, 36, 37, 38, 39, 40, 41, 42, 43, 44, 45, 46, 47, 48, 49, 50, 51, 52, 53, 54, 55, 56, 57, 58, 59, 60, 61, 62, 63, 64, 65, 66, 67, 68, 69, 70, 71, 72, 73, 74, 75, 76, 77, 78, 79, 80, 81, 82, 83, 84, 85, 86, 87, 88, 89, 90, 91, 92, 93, 94, 95, 96, 97, 98, 99, 100]\n"
     ]
    }
   ],
   "source": [
    "l=list (range (1,101))\n",
    "print(l)"
   ]
  },
  {
   "cell_type": "code",
   "execution_count": null,
   "id": "f8feb63e-6719-4c63-b714-52c80896cd6d",
   "metadata": {},
   "outputs": [],
   "source": []
  },
  {
   "cell_type": "code",
   "execution_count": 42,
   "id": "0b30ff6f-10b8-41ee-8335-f36b59ede224",
   "metadata": {},
   "outputs": [
    {
     "name": "stdout",
     "output_type": "stream",
     "text": [
      "\n",
      "2 es un numero primo\n",
      "\n",
      "3 es un numero primo\n",
      "\n",
      "5 es un numero primo\n",
      "Compuestos intermedios encontrados  [4]\n",
      "\n",
      "7 es un numero primo\n",
      "Compuestos intermedios encontrados  [6]\n",
      "\n",
      "11 es un numero primo\n",
      "Compuestos intermedios encontrados  [8, 9, 10]\n",
      "\n",
      "13 es un numero primo\n",
      "Compuestos intermedios encontrados  [12]\n",
      "\n",
      "17 es un numero primo\n",
      "Compuestos intermedios encontrados  [14, 15, 16]\n",
      "\n",
      "19 es un numero primo\n",
      "Compuestos intermedios encontrados  [18]\n",
      "\n",
      "23 es un numero primo\n",
      "Compuestos intermedios encontrados  [20, 21, 22]\n",
      "\n",
      "29 es un numero primo\n",
      "Compuestos intermedios encontrados  [24, 25, 26, 27, 28]\n",
      "\n",
      "31 es un numero primo\n",
      "Compuestos intermedios encontrados  [30]\n",
      "\n",
      "37 es un numero primo\n",
      "Compuestos intermedios encontrados  [32, 33, 34, 35, 36]\n",
      "\n",
      "41 es un numero primo\n",
      "Compuestos intermedios encontrados  [38, 39, 40]\n",
      "\n",
      "43 es un numero primo\n",
      "Compuestos intermedios encontrados  [42]\n",
      "\n",
      "47 es un numero primo\n",
      "Compuestos intermedios encontrados  [44, 45, 46]\n",
      "\n",
      "53 es un numero primo\n",
      "Compuestos intermedios encontrados  [48, 49, 50, 51, 52]\n",
      "\n",
      "59 es un numero primo\n",
      "Compuestos intermedios encontrados  [54, 55, 56, 57, 58]\n",
      "\n",
      "61 es un numero primo\n",
      "Compuestos intermedios encontrados  [60]\n",
      "\n",
      "67 es un numero primo\n",
      "Compuestos intermedios encontrados  [62, 63, 64, 65, 66]\n",
      "\n",
      "71 es un numero primo\n",
      "Compuestos intermedios encontrados  [68, 69, 70]\n",
      "\n",
      "73 es un numero primo\n",
      "Compuestos intermedios encontrados  [72]\n",
      "\n",
      "79 es un numero primo\n",
      "Compuestos intermedios encontrados  [74, 75, 76, 77, 78]\n",
      "\n",
      "83 es un numero primo\n",
      "Compuestos intermedios encontrados  [80, 81, 82]\n",
      "\n",
      "89 es un numero primo\n",
      "Compuestos intermedios encontrados  [84, 85, 86, 87, 88]\n",
      "\n",
      "97 es un numero primo\n",
      "Compuestos intermedios encontrados  [90, 91, 92, 93, 94, 95, 96]\n",
      "\n",
      "101 es un numero primo\n",
      "Compuestos intermedios encontrados  [98, 99, 100]\n",
      "\n",
      "todos los primos encontrados\n",
      "[2, 3, 5, 7, 11, 13, 17, 19, 23, 29, 31, 37, 41, 43, 47, 53, 59, 61, 67, 71, 73, 79, 83, 89, 97, 101]\n",
      "\n",
      "todos los compuestos encontrados\n",
      "[4, 6, 8, 9, 10, 12, 14, 15, 16, 18, 20, 21, 22, 24, 25, 26, 27, 28, 30, 32, 33, 34, 35, 36, 38, 39, 40, 42, 44, 45, 46, 48, 49, 50, 51, 52, 54, 55, 56, 57, 58, 60, 62, 63, 64, 65, 66, 68, 69, 70, 72, 74, 75, 76, 77, 78, 80, 81, 82, 84, 85, 86, 87, 88, 90, 91, 92, 93, 94, 95, 96, 98, 99, 100]\n"
     ]
    }
   ],
   "source": [
    "list_temporal,list_composed=[],[]\n",
    "list_primes=[]\n",
    "p=1\n",
    "for i in range(2,102):\n",
    "    for j in list_primes:\n",
    "        if i%j == 0:\n",
    "            #si es divisible\n",
    "            list_temporal.append(i)\n",
    "            p=0\n",
    "            break\n",
    "        else: \n",
    "            p=1\n",
    "    if p==0: \n",
    "        continue\n",
    "    print(f\"\\n{i} es un numero primo\")\n",
    "    if len(list_temporal)!=0:\n",
    "        print(\"Compuestos intermedios encontrados \",list_temporal)\n",
    "    list_composed.extend(list_temporal)\n",
    "    list_temporal=[]\n",
    "    list_primes.append(i)\n",
    "\n",
    "print(\"\\ntodos los primos encontrados\")\n",
    "print(list_primes)\n",
    "print(\"\\ntodos los compuestos encontrados\")\n",
    "print(list_composed)\n",
    "\n"
   ]
  },
  {
   "cell_type": "code",
   "execution_count": null,
   "id": "e5ae7fb1-eb7c-4d63-bf30-cb7e9137492c",
   "metadata": {},
   "outputs": [],
   "source": []
  },
  {
   "cell_type": "code",
   "execution_count": null,
   "id": "19b42247-bf19-4408-a30c-c9a34d3d3dab",
   "metadata": {},
   "outputs": [],
   "source": []
  },
  {
   "cell_type": "code",
   "execution_count": null,
   "id": "36d826c4-ab4e-4b2d-aefe-eb26e4e9410c",
   "metadata": {},
   "outputs": [],
   "source": []
  },
  {
   "cell_type": "code",
   "execution_count": 10,
   "id": "0be0c0d2-ddd5-4f2f-91b1-d6b2674cf956",
   "metadata": {},
   "outputs": [
    {
     "name": "stdout",
     "output_type": "stream",
     "text": [
      "Número primo encontrado: 2\n",
      "Números no primos encontrados antes de este número primo: 1\n",
      "Número primo encontrado: 3\n",
      "Números no primos encontrados antes de este número primo: 0\n",
      "Número primo encontrado: 5\n",
      "Números no primos encontrados antes de este número primo: 1\n",
      "Número primo encontrado: 7\n",
      "Números no primos encontrados antes de este número primo: 1\n",
      "Número primo encontrado: 11\n",
      "Números no primos encontrados antes de este número primo: 3\n",
      "Número primo encontrado: 13\n",
      "Números no primos encontrados antes de este número primo: 1\n",
      "Número primo encontrado: 17\n",
      "Números no primos encontrados antes de este número primo: 3\n",
      "Número primo encontrado: 19\n",
      "Números no primos encontrados antes de este número primo: 1\n",
      "Número primo encontrado: 23\n",
      "Números no primos encontrados antes de este número primo: 3\n",
      "Número primo encontrado: 29\n",
      "Números no primos encontrados antes de este número primo: 5\n",
      "Número primo encontrado: 31\n",
      "Números no primos encontrados antes de este número primo: 1\n",
      "Número primo encontrado: 37\n",
      "Números no primos encontrados antes de este número primo: 5\n",
      "Número primo encontrado: 41\n",
      "Números no primos encontrados antes de este número primo: 3\n",
      "Número primo encontrado: 43\n",
      "Números no primos encontrados antes de este número primo: 1\n",
      "Número primo encontrado: 47\n",
      "Números no primos encontrados antes de este número primo: 3\n",
      "Número primo encontrado: 53\n",
      "Números no primos encontrados antes de este número primo: 5\n",
      "Número primo encontrado: 59\n",
      "Números no primos encontrados antes de este número primo: 5\n",
      "Número primo encontrado: 61\n",
      "Números no primos encontrados antes de este número primo: 1\n",
      "Número primo encontrado: 67\n",
      "Números no primos encontrados antes de este número primo: 5\n",
      "Número primo encontrado: 71\n",
      "Números no primos encontrados antes de este número primo: 3\n",
      "Número primo encontrado: 73\n",
      "Números no primos encontrados antes de este número primo: 1\n",
      "Número primo encontrado: 79\n",
      "Números no primos encontrados antes de este número primo: 5\n",
      "Número primo encontrado: 83\n",
      "Números no primos encontrados antes de este número primo: 3\n",
      "Número primo encontrado: 89\n",
      "Números no primos encontrados antes de este número primo: 5\n",
      "Número primo encontrado: 97\n",
      "Números no primos encontrados antes de este número primo: 7\n"
     ]
    }
   ],
   "source": [
    "def es_primo(n):\n",
    "    \"\"\"Función para determinar si un número es primo.\"\"\"\n",
    "    if n <= 1:\n",
    "        return False\n",
    "    for i in range(2, n):\n",
    "        if n % i == 0:\n",
    "            return False\n",
    "    return True\n",
    "\n",
    "no_primos_contador = 0\n",
    "\n",
    "for numero in range(1,100 ):\n",
    "    if not es_primo(numero):\n",
    "        no_primos_contador += 1\n",
    "        continue\n",
    "\n",
    "    print(f\"Número primo encontrado: {numero}\")\n",
    "    print(f\"Números no primos encontrados antes de este número primo: {no_primos_contador}\")\n",
    "    no_primos_contador = 0"
   ]
  },
  {
   "cell_type": "code",
   "execution_count": null,
   "id": "39748ed4-59c4-4ac2-8feb-9cb8c4ef11ad",
   "metadata": {},
   "outputs": [],
   "source": []
  }
 ],
 "metadata": {
  "kernelspec": {
   "display_name": "Python 3 (ipykernel)",
   "language": "python",
   "name": "python3"
  },
  "language_info": {
   "codemirror_mode": {
    "name": "ipython",
    "version": 3
   },
   "file_extension": ".py",
   "mimetype": "text/x-python",
   "name": "python",
   "nbconvert_exporter": "python",
   "pygments_lexer": "ipython3",
   "version": "3.12.8"
  }
 },
 "nbformat": 4,
 "nbformat_minor": 5
}
