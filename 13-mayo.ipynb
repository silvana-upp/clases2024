{
 "cells": [
  {
   "cell_type": "raw",
   "id": "6d092257-aded-4c58-90c8-04e4f5fbfe10",
   "metadata": {},
   "source": [
    "1. Duck Typing\n",
    "En Python, si un objeto tiene un método o atributo específico, se puede usar sin importar su tipo. Esto se llama \"Duck Typing\" (Si camina como un pato y suena como un pato, entonces probablemente sea un pato)."
   ]
  },
  {
   "cell_type": "code",
   "execution_count": 2,
   "id": "297aa2bc-2206-4af7-acba-500a96af4258",
   "metadata": {},
   "outputs": [
    {
     "name": "stdout",
     "output_type": "stream",
     "text": [
      "Guau!\n",
      "Miau!\n"
     ]
    }
   ],
   "source": [
    "class Animal:\n",
    "    def hacer_sonido(self):\n",
    "        pass\n",
    "\n",
    "class Perro(Animal):\n",
    "    def hacer_sonido(self):\n",
    "        return \"Guau!\"\n",
    "\n",
    "class Gato(Animal):\n",
    "    def hacer_sonido(self):\n",
    "        return \"Miau!\"\n",
    "\n",
    "def reproducir_sonido(animal):\n",
    "    print(animal.hacer_sonido())\n",
    "\n",
    "# Ejemplo de uso\n",
    "mi_perro = Perro()\n",
    "mi_gato = Gato()\n",
    "\n",
    "reproducir_sonido(mi_perro)  # Salida: \"Guau!\"\n",
    "reproducir_sonido(mi_gato)  # Salida: \"Miau!\""
   ]
  },
  {
   "cell_type": "raw",
   "id": "b8907d5b-b776-4c32-bf1e-c69e6c82539c",
   "metadata": {},
   "source": [
    "Ejercicio:\n",
    "Crea una función mostrar_datos(objeto) que acepte cualquier objeto que tenga un método obtener_datos.\n",
    "Define dos clases: Libro y Revista, ambas con el método obtener_datos, que devuelva información diferente.\n",
    "Llama a la función con instancias de ambas clases."
   ]
  },
  {
   "cell_type": "raw",
   "id": "9a537416-4b42-44a4-b165-2e702a9046b2",
   "metadata": {},
   "source": [
    "2. Sobrecarga de Operadores y Métodos\n",
    "Se refiere a una clase que tiene muchos métodos con el mismo nombre pero quizás distintos\n",
    "Python permite redefinir el comportamiento de operadores como +, -, *, etc., utilizando métodos mágicos o dunners (por ejemplo, __add__, __sub__).\n",
    "Sobrecarga de Métodos\n",
    "Python no admite sobrecarga de métodos de forma explícita (como en otros lenguajes como C#). Sin embargo, se puede lograr un comportamiento similar utilizando valores predeterminados en los parámetros o manejando los argumentos dinámicamente.\n"
   ]
  },
  {
   "cell_type": "code",
   "execution_count": 4,
   "id": "ede791c2-43c5-43fa-8588-2d373865da21",
   "metadata": {},
   "outputs": [
    {
     "name": "stdout",
     "output_type": "stream",
     "text": [
      "Suma: Vector(10, 6)\n",
      "Resta: Vector(-4, 4)\n"
     ]
    }
   ],
   "source": [
    "#Sobrecarga de Operadores\n",
    "class Vector:\n",
    "    def __init__(self, x, y):\n",
    "        self.x = x\n",
    "        self.y = y\n",
    "\n",
    "    def __add__(self, otro):\n",
    "        # Sobrecarga del operador +\n",
    "        return Vector(self.x + otro.x, self.y + otro.y)\n",
    "\n",
    "    def __sub__(self, otro):\n",
    "        # Sobrecarga del operador -\n",
    "        return Vector(self.x - otro.x, self.y - otro.y)\n",
    "\n",
    "    def __repr__(self):\n",
    "        return f\"Vector({self.x}, {self.y})\"\n",
    "\n",
    "# Ejemplo de uso\n",
    "v1 = Vector(3, 5)\n",
    "v2 = Vector(7, 1)\n",
    "\n",
    "suma = v1 + v2\n",
    "resta = v1 - v2\n",
    "\n",
    "print(\"Suma:\", suma)    # Salida: Vector(10, 6)\n",
    "print(\"Resta:\", resta)  # Salida: Vector(-4, 4)"
   ]
  },
  {
   "cell_type": "code",
   "execution_count": 6,
   "id": "fdc02566-7cef-4f53-9bdb-eb65fdd72bd2",
   "metadata": {},
   "outputs": [
    {
     "name": "stdout",
     "output_type": "stream",
     "text": [
      "8\n",
      "10\n"
     ]
    }
   ],
   "source": [
    "#Sobrecarga de Métodos\n",
    "class Calculadora:\n",
    "    def sumar(self, a, b, c=0):\n",
    "        \"\"\"\n",
    "        Método que permite sumar dos o tres valores.\n",
    "        Si no se proporciona el tercer valor, se asume que es 0.\n",
    "        \"\"\"\n",
    "        return a + b + c\n",
    "\n",
    "# Ejemplo de uso\n",
    "calc = Calculadora()\n",
    "\n",
    "print(calc.sumar(5, 3))       # Salida: 8 (suma de dos valores)\n",
    "print(calc.sumar(5, 3, 2))    # Salida: 10 (suma de tres valores)"
   ]
  },
  {
   "cell_type": "raw",
   "id": "50239673-68ca-4ca8-96f8-bd1795264663",
   "metadata": {},
   "source": [
    "1. Ejercicio: Sobrecarga de Operadores\n",
    "Crea una clase llamada Fraccion que represente una fracción matemática con atributos numerador y denominador. Implementa la sobrecarga del operador + para sumar dos objetos de la clase Fraccion.\n",
    "\n",
    "2. Ejercicio: Sobrecarga de Métodos\n",
    "Crea una clase llamada Area que tenga un método calcular que pueda:\n",
    "Calcular el área de un círculo si se proporciona el radio.\n",
    "Calcular el área de un rectángulo si se proporcionan la base y la altura.\n"
   ]
  },
  {
   "cell_type": "raw",
   "id": "b1065057-adb3-4330-9d6e-477b6ec5fe12",
   "metadata": {},
   "source": [
    "3. Anulación de Métodos\n",
    "La anulación de métodos ocurre cuando una clase hija redefine un método heredado de su clase base."
   ]
  },
  {
   "cell_type": "code",
   "execution_count": 12,
   "id": "da9f3e65-f263-4447-be56-941c1e8b7ff4",
   "metadata": {},
   "outputs": [
    {
     "name": "stdout",
     "output_type": "stream",
     "text": [
      "El coche está conduciendo en la carretera.\n",
      "El barco está navegando en el agua.\n",
      "El avión está volando en el cielo.\n"
     ]
    }
   ],
   "source": [
    "class Vehiculo:\n",
    "    def moverse(self):\n",
    "        return \"El vehículo se está moviendo.\"\n",
    "\n",
    "class Coche(Vehiculo):\n",
    "    def moverse(self):\n",
    "        return \"El coche está conduciendo en la carretera.\"\n",
    "\n",
    "class Barco(Vehiculo):\n",
    "    def moverse(self):\n",
    "        return \"El barco está navegando en el agua.\"\n",
    "\n",
    "class Avion(Vehiculo):\n",
    "    def moverse(self):\n",
    "        return \"El avión está volando en el cielo.\"\n",
    "\n",
    "# Ejemplo de uso\n",
    "vehiculos = [Coche(), Barco(), Avion()]\n",
    "\n",
    "for vehiculo in vehiculos:\n",
    "    print(vehiculo.moverse())\n",
    "#Polimorfismo:Se demuestra al iterar sobre una lista de objetos vehiculos y llamar al método moverse() sin importar el tipo específico de objeto.\n"
   ]
  },
  {
   "cell_type": "raw",
   "id": "4e254587-1add-4fe3-8885-d26583186eee",
   "metadata": {},
   "source": [
    "Ejercicio:\n",
    "Crea una clase base Empleado con un método calcular_salario que devuelva un salario base.\n",
    "Crea dos clases derivadas: Desarrollador y Gerente, que anulen el método para calcular salarios personalizados.\n",
    "Crea una lista de empleados y llama al método calcular_salario para cada uno.\n"
   ]
  },
  {
   "cell_type": "code",
   "execution_count": 14,
   "id": "c1da7926-988e-4712-ba80-5b542bc5a68e",
   "metadata": {},
   "outputs": [
    {
     "name": "stdout",
     "output_type": "stream",
     "text": [
      "Soy un círculo con radio 5.\n",
      "Área: 78.53975\n",
      "Perímetro: 31.4159\n",
      "\n",
      "Soy una figura geométrica.\n",
      "Área: 24\n",
      "Perímetro: 20\n",
      "\n"
     ]
    }
   ],
   "source": [
    "#Clases y metodos abstractos\n",
    "\n",
    "from abc import ABC, abstractmethod\n",
    "\n",
    "class FiguraGeometrica(ABC):\n",
    "    \"\"\"\n",
    "    Clase abstracta que sirve como plantilla para figuras geométricas.\n",
    "    Obliga a las subclases a implementar los métodos para calcular área y perímetro.\n",
    "    \"\"\"\n",
    "    @abstractmethod\n",
    "    def calcular_area(self):\n",
    "        pass\n",
    "\n",
    "    @abstractmethod\n",
    "    def calcular_perimetro(self):\n",
    "        pass\n",
    "\n",
    "    def descripcion(self):\n",
    "        \"\"\"\n",
    "        Método concreto (no abstracto) que puede ser heredado por las subclases.\n",
    "        \"\"\"\n",
    "        return \"Soy una figura geométrica.\"\n",
    "\n",
    "class Circulo(FiguraGeometrica):\n",
    "    def __init__(self, radio):\n",
    "        self.radio = radio\n",
    "\n",
    "    def calcular_area(self):\n",
    "        return 3.14159 * self.radio ** 2\n",
    "\n",
    "    def calcular_perimetro(self):\n",
    "        return 2 * 3.14159 * self.radio\n",
    "\n",
    "    def descripcion(self):\n",
    "        \"\"\"\n",
    "        Sobreescribe el método de la clase base.\n",
    "        \"\"\"\n",
    "        return f\"Soy un círculo con radio {self.radio}.\"\n",
    "\n",
    "class Rectangulo(FiguraGeometrica):\n",
    "    def __init__(self, ancho, alto):\n",
    "        self.ancho = ancho\n",
    "        self.alto = alto\n",
    "\n",
    "    def calcular_area(self):\n",
    "        return self.ancho * self.alto\n",
    "\n",
    "    def calcular_perimetro(self):\n",
    "        return 2 * (self.ancho + self.alto)\n",
    "\n",
    "# Ejemplo de uso\n",
    "figuras = [\n",
    "    Circulo(5),  # Circulo con radio 5\n",
    "    Rectangulo(4, 6)  # Rectángulo con ancho 4 y alto 6\n",
    "]\n",
    "\n",
    "for figura in figuras:\n",
    "    print(figura.descripcion())\n",
    "    print(f\"Área: {figura.calcular_area()}\")\n",
    "    print(f\"Perímetro: {figura.calcular_perimetro()}\")\n",
    "    print()"
   ]
  },
  {
   "cell_type": "raw",
   "id": "7ead2ba0-52ac-45a4-92aa-4ff27c5baa59",
   "metadata": {},
   "source": [
    "Ejercicio:\n",
    "1.Transporte Público:\n",
    "Crea una clase abstracta Transporte con los métodos abstractos arrancar y detener.\n",
    "Implementa dos subclases: Autobus y Tren.\n",
    "En Autobus, define un método adicional abrir_puertas.\n",
    "En Tren, define un método adicional activar_señal.\n",
    "Crea una lista con instancias de cada tipo de transporte y llama a los métodos comunes y específicos.\n",
    "Electrodomésticos:\n",
    "\n",
    "2.Define una clase abstracta Electrodomestico con un método abstracto funcionar.\n",
    "Implementa subclases como Lavadora y Microondas con sus propias implementaciones del método funcionar.\n",
    "Agrega un método concreto en la clase base llamado informar_estado que devuelva \"Estado: En espera\".\n",
    "Instrumentos Musicales:\n",
    "\n",
    "3.Crea una clase abstracta Instrumento con métodos abstractos tocar y afinar.\n",
    "Implementa subclases como Guitarra y Piano con sus propias implementaciones.\n",
    "En la clase base, agrega un método concreto descripcion que diga \"Soy un instrumento musical\" y permite que las subclases lo sobrescriban."
   ]
  }
 ],
 "metadata": {
  "kernelspec": {
   "display_name": "Python [conda env:base] *",
   "language": "python",
   "name": "conda-base-py"
  },
  "language_info": {
   "codemirror_mode": {
    "name": "ipython",
    "version": 3
   },
   "file_extension": ".py",
   "mimetype": "text/x-python",
   "name": "python",
   "nbconvert_exporter": "python",
   "pygments_lexer": "ipython3",
   "version": "3.12.7"
  }
 },
 "nbformat": 4,
 "nbformat_minor": 5
}
