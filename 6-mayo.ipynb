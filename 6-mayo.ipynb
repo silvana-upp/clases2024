{
 "cells": [
  {
   "cell_type": "code",
   "execution_count": 4,
   "id": "9e277da7-836f-400f-be4e-3743bd805df8",
   "metadata": {},
   "outputs": [
    {
     "name": "stdout",
     "output_type": "stream",
     "text": [
      "ID: 1, Nombre: Tortuga Marina, Edad: 10 años, Tipo: marina, Sin ubicación\n",
      "ID: 2, Nombre: Tortuga de Tierra, Edad: 5 años, Tipo: tierra, Terrario: Zona A\n",
      "Terrario en Zona A, Número de tortugas: 2\n",
      "Lista de tortugas:\n",
      "  - ID: 2, Nombre: Tortuga de Tierra, Edad: 5 años, Tipo: tierra, Terrario: Zona A\n",
      "  - ID: 3, Nombre: Tortuga Juvenil, Edad: 3 años, Tipo: tierra, Terrario: Zona A\n",
      "\n"
     ]
    }
   ],
   "source": [
    "class Animal:\n",
    "    def __init__(self, nombre, id, edad):\n",
    "        self.nombre = nombre\n",
    "        self.id = id\n",
    "        self.edad = edad\n",
    "    def mostrar_informacion(self):\n",
    "        return f\"ID: {self.id}, Nombre: {self.nombre}, Edad: {self.edad} años\"\n",
    "\n",
    "class Tortuga(Animal):\n",
    "    def __init__(self, nombre, id, edad, tipo, terrario=None):\n",
    "        super().__init__(nombre, id, edad)\n",
    "        self.tipo = tipo  # Puede ser \"marina\" o \"tierra\"\n",
    "        self.terrario = None\n",
    "        if self.tipo == \"tierra\" and terrario is not None:\n",
    "            terrario.agregar_tortuga(self)\n",
    "            self.terrario = terrario\n",
    "            \n",
    "    def mostrar_informacion(self):\n",
    "        info_base = super().mostrar_informacion()\n",
    "        ubicacion = f\"Terrario: {self.terrario.ubicacion}\" if self.terrario else \"Sin ubicación\"\n",
    "        return f\"{info_base}, Tipo: {self.tipo}, {ubicacion}\"\n",
    "\n",
    "class Terrario:\n",
    "    def __init__(self, ubicacion):\n",
    "        self.ubicacion = ubicacion  # Ejemplo: \"Zona A\"\n",
    "        self.tortugas = []  # Lista para almacenar tortugas\n",
    "\n",
    "    def agregar_tortuga(self, tortuga):\n",
    "        if isinstance(tortuga, Tortuga):\n",
    "            self.tortugas.append(tortuga)\n",
    "        else:\n",
    "            raise ValueError(\"Solo se pueden agregar objetos de tipo Tortuga\")\n",
    "\n",
    "    def mostrar_informacion(self):\n",
    "        info = f\"Terrario en {self.ubicacion}, Número de tortugas: {len(self.tortugas)}\\n\"\n",
    "        info += \"Lista de tortugas:\\n\"\n",
    "        for tortuga in self.tortugas:\n",
    "            info += f\"  - {tortuga.mostrar_informacion()}\\n\"\n",
    "        return info\n",
    "\n",
    "\n",
    "if __name__ == \"__main__\":\n",
    "    # Crear una instancia de Terrario\n",
    "    terrario_1 = Terrario(\"Zona A\")\n",
    "\n",
    "    # Crear instancias de Tortugas\n",
    "    tortuga_1 = Tortuga(\"Tortuga Marina\", 1, 10, \"marina\")  # No se agrega automáticamente al terrario\n",
    "    tortuga_2 = Tortuga(\"Tortuga de Tierra\", 2, 5, \"tierra\", terrario_1)  # Se agrega automáticamente al terrario\n",
    "    tortuga_3 = Tortuga(\"Tortuga Juvenil\", 3, 3, \"tierra\", terrario_1)  # Se agrega automáticamente al terrario\n",
    "\n",
    "    # Mostrar información\n",
    "    print(tortuga_1.mostrar_informacion())  # Información de tortuga marina\n",
    "    print(tortuga_2.mostrar_informacion())  # Información de tortuga de tierra con terrario\n",
    "    print(terrario_1.mostrar_informacion())  # Información del terrario"
   ]
  },
  {
   "cell_type": "code",
   "execution_count": null,
   "id": "4db62a76-3a76-4473-8ff0-9bc77dd6d6f9",
   "metadata": {},
   "outputs": [],
   "source": []
  }
 ],
 "metadata": {
  "kernelspec": {
   "display_name": "Python [conda env:base] *",
   "language": "python",
   "name": "conda-base-py"
  },
  "language_info": {
   "codemirror_mode": {
    "name": "ipython",
    "version": 3
   },
   "file_extension": ".py",
   "mimetype": "text/x-python",
   "name": "python",
   "nbconvert_exporter": "python",
   "pygments_lexer": "ipython3",
   "version": "3.12.7"
  }
 },
 "nbformat": 4,
 "nbformat_minor": 5
}
