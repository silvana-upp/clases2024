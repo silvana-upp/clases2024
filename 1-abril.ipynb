{
 "cells": [
  {
   "cell_type": "code",
   "execution_count": 7,
   "id": "85faca67-281c-428f-8f4f-4802cb89a8e0",
   "metadata": {},
   "outputs": [
    {
     "name": "stdout",
     "output_type": "stream",
     "text": [
      "Hola, mi nombre es Juan y tengo 30 años.\n"
     ]
    }
   ],
   "source": [
    "# Métodos de Instancia\n",
    "# Los métodos de instancia son los más comunes y se definen utilizando 'self' como el primer parámetro.\n",
    "# 'self' hace referencia a la instancia de la clase.\n",
    "class Persona:\n",
    "    def __init__(self, nombre, edad):\n",
    "        self.nombre = nombre\n",
    "        self.edad = edad\n",
    "\n",
    "    def saludar(self):\n",
    "        return f\"Hola, mi nombre es {self.nombre} y tengo {self.edad} años.\"\n",
    "\n",
    "# Ejemplo de uso de métodos de instancia\n",
    "persona1 = Persona(\"Juan\", 30)\n",
    "print(persona1.saludar())  # Output: Hola, mi nombre es Juan y tengo 30 años."
   ]
  },
  {
   "cell_type": "code",
   "execution_count": 11,
   "id": "badb12fd-82b6-4930-8aec-3feedc2cfa5b",
   "metadata": {},
   "outputs": [
    {
     "name": "stdout",
     "output_type": "stream",
     "text": [
      "Se han creado 3 instancias de la clase Persona.\n"
     ]
    }
   ],
   "source": [
    "# Métodos de Clase\n",
    "# Se definen utilizando 'cls' como el primer parámetro y el decorador @classmethod.\n",
    "# 'cls' hace referencia a la clase en sí misma y no a una instancia específica de la clase.\n",
    "\n",
    "class Persona:\n",
    "    contador_instancias = 0\n",
    "\n",
    "    def __init__(self, nombre, edad):\n",
    "        self.nombre = nombre\n",
    "        self.edad = edad\n",
    "        Persona.contador_instancias += 1\n",
    "\n",
    "    @classmethod\n",
    "    def contar_instancias(cls):\n",
    "        return f\"Se han creado {cls.contador_instancias} instancias de la clase Persona.\"\n",
    "\n",
    "# Ejemplo de uso de métodos de clase\n",
    "persona2 = Persona(\"Ana\", 25)\n",
    "persona3 = Persona(\"Luis\", 40)\n",
    "persona1 = Persona(\"Fer\",5 )\n",
    "print(Persona.contar_instancias())  # Output: Se han creado 2 instancias de la clase Persona."
   ]
  },
  {
   "cell_type": "raw",
   "id": "a11e3eb8-cc31-45cc-a0ec-e471cd777cd5",
   "metadata": {},
   "source": [
    "Ejercicio: Gestionar una lista de estudiantes\n",
    "\n",
    "Crea una clase Estudiante con atributos de instancia nombre y edad.\n",
    "Añade un atributo de clase lista_estudiantes y un método de clase agregar_estudiante que añada un nuevo estudiante a la lista.\n",
    "Añade un método de clase mostrar_estudiantes que devuelva la lista de estudiantes."
   ]
  },
  {
   "cell_type": "code",
   "execution_count": 14,
   "id": "7f9b0ade-e5e2-4bcf-9cfb-b8e124b60f70",
   "metadata": {},
   "outputs": [
    {
     "name": "stdout",
     "output_type": "stream",
     "text": [
      "[('Carlos', 20), ('Ana', 22), ('Juan', 21)]\n"
     ]
    }
   ],
   "source": [
    "class Estudiante:\n",
    "    lista_estudiantes = []\n",
    "\n",
    "    def __init__(self, nombre, edad):\n",
    "        self.nombre = nombre\n",
    "        self.edad = edad\n",
    "\n",
    "    @classmethod\n",
    "    def agregar_estudiante(cls, estudiante):\n",
    "        cls.lista_estudiantes.append(estudiante)\n",
    "\n",
    "    @classmethod\n",
    "    def mostrar_estudiantes(cls):\n",
    "        return [(est.nombre, est.edad) for est in cls.lista_estudiantes]\n",
    "\n",
    "# Ejemplo de uso de la clase Estudiante\n",
    "estudiante1 = Estudiante(\"Carlos\", 20)\n",
    "Estudiante.agregar_estudiante(estudiante1)\n",
    "estudiante2 = Estudiante(\"Ana\", 22)\n",
    "estudiante3 = Estudiante(\"Juan\", 21)\n",
    "Estudiante.agregar_estudiante(estudiante2)\n",
    "Estudiante.agregar_estudiante(estudiante3)\n",
    "\n",
    "print(Estudiante.mostrar_estudiantes())  # Output: [('Carlos', 20), ('Ana', 22)]"
   ]
  },
  {
   "cell_type": "code",
   "execution_count": 15,
   "id": "29a07040-3c26-4b16-bcd7-94d7658c364e",
   "metadata": {},
   "outputs": [
    {
     "name": "stdout",
     "output_type": "stream",
     "text": [
      "15\n"
     ]
    }
   ],
   "source": [
    "# Métodos Estáticos\n",
    "# Se definen utilizando el decorador @staticmethod y no reciben ni 'self' ni 'cls'.\n",
    "# Son métodos que no dependen de una instancia o de la clase y se comportan como funciones normales pero dentro del contexto de la clase.\n",
    "\n",
    "class Matematica:\n",
    "    @staticmethod\n",
    "    def sumar(a, b):\n",
    "        return a + b\n",
    "\n",
    "# Ejemplo de uso de métodos estáticos\n",
    "print(Matematica.sumar(5, 10))  # Output: 15\n"
   ]
  },
  {
   "cell_type": "code",
   "execution_count": null,
   "id": "ca96389b-dff2-40d0-a0d3-3d244a02ba79",
   "metadata": {},
   "outputs": [],
   "source": [
    "Ejercicio: Calcular el área de diferentes figuras geométricas\n",
    "\n",
    "Crea una clase Geometria que tenga métodos estáticos para calcular el área de un círculo, un cuadrado y un triángulo.\n",
    "El método area_circulo debe recibir el radio, area_cuadrado debe recibir el lado, y area_triangulo debe recibir la base y la altura."
   ]
  },
  {
   "cell_type": "raw",
   "id": "14045ecf-638e-4b3e-bfaa-44141ca624e2",
   "metadata": {},
   "source": [
    "# Ejercicio\n",
    "# 1. Crea una clase \"Coche\" que tenga atributos de instancia (marca, modelo, año) y un método de instancia que muestre esta información.\n",
    "# 2. Añade un método de clase a \"Coche\" que cuente cuántos coches se han creado.\n",
    "# 3. Añade un método estático a \"Coche\" que reciba dos números (precio base y porcentaje de impuestos) y calcule el precio final del coche.\n"
   ]
  },
  {
   "cell_type": "code",
   "execution_count": 6,
   "id": "e8d79781-c2d8-4427-9843-cbb93744baab",
   "metadata": {},
   "outputs": [
    {
     "name": "stdout",
     "output_type": "stream",
     "text": [
      "Python\n",
      "['Python', 'Python']\n",
      "Java es un lenguaje de programación. Java es popular y fácil de aprender.\n",
      "True\n",
      "False\n",
      "13\n"
     ]
    }
   ],
   "source": [
    "# Métodos en Python para la clase 'match'\n",
    "\n",
    "# La clase 'match' en Python no existe como tal. Sin embargo, podemos abordar el tema de patrones de coincidencia (matching) \n",
    "# y cómo implementar métodos en una clase personalizada que maneje este concepto.\n",
    "\n",
    "# Vamos a crear una clase llamada 'Match' que contendrá métodos para encontrar coincidencias en cadenas de texto.\n",
    "\n",
    "import re\n",
    "\n",
    "class Match:\n",
    "    def __init__(self, texto):\n",
    "        self.texto = texto\n",
    "\n",
    "    def encontrar_coincidencia(self, patron):\n",
    "        \"\"\"\n",
    "        Este método busca la primera coincidencia de un patrón en el texto.\n",
    "        \"\"\"\n",
    "        match = re.search(patron, self.texto)\n",
    "        return match.group() if match else None\n",
    "\n",
    "    def encontrar_todas_las_coincidencias(self, patron):\n",
    "        \"\"\"\n",
    "        Este método busca todas las coincidencias de un patrón en el texto.\n",
    "        \"\"\"\n",
    "        return re.findall(patron, self.texto)\n",
    "\n",
    "    def reemplazar_coincidencias(self, patron, reemplazo):\n",
    "        \"\"\"\n",
    "        Este método reemplaza todas las coincidencias de un patrón en el texto con un texto de reemplazo.\n",
    "        \"\"\"\n",
    "        return re.sub(patron, reemplazo, self.texto)\n",
    "\n",
    "    @classmethod\n",
    "    def es_patron_valido(cls, patron):\n",
    "        \"\"\"\n",
    "        Este método de clase verifica si un patrón de expresión regular es válido.\n",
    "        \"\"\"\n",
    "        try:\n",
    "            re.compile(patron)\n",
    "            return True\n",
    "        except re.error:\n",
    "            return False\n",
    "\n",
    "    @staticmethod\n",
    "    def contar_palabras(texto):\n",
    "        \"\"\"\n",
    "        Este método estático cuenta el número de palabras en un texto.\n",
    "        \"\"\"\n",
    "        palabras = re.findall(r'\\b\\w+\\b', texto)\n",
    "        return len(palabras)\n",
    "\n",
    "# Ejemplo de uso de la clase Match\n",
    "\n",
    "texto = \"Python es un lenguaje de programación. Python es popular y fácil de aprender.\"\n",
    "\n",
    "# Crear una instancia de la clase Match\n",
    "match_instance = Match(texto)\n",
    "\n",
    "# Encontrar la primera coincidencia\n",
    "print(match_instance.encontrar_coincidencia(\"Python\"))  # Output: Python\n",
    "\n",
    "# Encontrar todas las coincidencias\n",
    "print(match_instance.encontrar_todas_las_coincidencias(\"Python\"))  # Output: ['Python', 'Python']\n",
    "\n",
    "# Reemplazar coincidencias\n",
    "print(match_instance.reemplazar_coincidencias(\"Python\", \"Java\"))  # Output: Java es un lenguaje de programación. Java es popular y fácil de aprender.\n",
    "\n",
    "# Verificar si un patrón es válido\n",
    "print(Match.es_patron_valido(\"[A-Z]\"))  # Output: True\n",
    "print(Match.es_patron_valido(\"[A-Z\"))  # Output: False\n",
    "\n",
    "# Contar palabras en un texto\n",
    "print(Match.contar_palabras(texto))  # Output: 10\n",
    "\n"
   ]
  },
  {
   "cell_type": "code",
   "execution_count": 3,
   "id": "accfc077-62ed-483a-9208-695ac640cfff",
   "metadata": {},
   "outputs": [
    {
     "name": "stdout",
     "output_type": "stream",
     "text": [
      "Nombre reconocido: Juan Pérez. ¡Hola, Juan Pérez!\n",
      "Correo electrónico válido: ana.gomez@example.com. Se ha registrado correctamente.\n",
      "Fecha detectada: 15/08/1995. ¿Es una fecha de cumpleaños?\n",
      "Número de teléfono válido: +1-800-555-1234. Guardado en contactos.\n",
      "No se reconoce el formato de la entrada: invalid_data. Inténtelo de nuevo.\n"
     ]
    }
   ],
   "source": [
    "import re\n",
    "\n",
    "class ProcesadorDatos:\n",
    "    @staticmethod\n",
    "    def identificar_dato(entrada):\n",
    "        patrones = {\n",
    "            \"nombre\": r'^[A-ZÁÉÍÓÚÑ][a-záéíóúñ]+( [A-ZÁÉÍÓÚÑ][a-záéíóúñ]+)*$',  # Nombres con mayúsculas\n",
    "            \"email\": r'^[\\w\\.-]+@[\\w\\.-]+\\.\\w{2,}$',  # Correos electrónicos\n",
    "            \"fecha\": r'^\\d{2}/\\d{2}/\\d{4}$',  # Fechas en formato DD/MM/YYYY\n",
    "            \"teléfono\": r'^\\+?\\d{1,3}[-.\\s]?\\d{3}[-.\\s]?\\d{3,4}[-.\\s]?\\d{4}$'  # Teléfonos con distintos formatos\n",
    "        }\n",
    "\n",
    "        for tipo, patron in patrones.items():\n",
    "            if re.match(patron, entrada):\n",
    "                return tipo\n",
    "        return \"desconocido\"\n",
    "\n",
    "def procesar_entrada(entrada):\n",
    "    tipo = ProcesadorDatos.identificar_dato(entrada)\n",
    "\n",
    "    match tipo:\n",
    "        case \"nombre\":\n",
    "            print(f\"Nombre reconocido: {entrada}. ¡Hola, {entrada}!\")\n",
    "        case \"email\":\n",
    "            print(f\"Correo electrónico válido: {entrada}. Se ha registrado correctamente.\")\n",
    "        case \"fecha\":\n",
    "            print(f\"Fecha detectada: {entrada}. ¿Es una fecha de cumpleaños?\")\n",
    "        case \"teléfono\":\n",
    "            print(f\"Número de teléfono válido: {entrada}. Guardado en contactos.\")\n",
    "        case _:\n",
    "            print(f\"No se reconoce el formato de la entrada: {entrada}. Inténtelo de nuevo.\")\n",
    "\n",
    "# Pruebas con distintos datos\n",
    "datos = [\n",
    "    \"Juan Pérez\",\n",
    "    \"ana.gomez@example.com\",\n",
    "    \"15/08/1995\",\n",
    "    \"+1-800-555-1234\",\n",
    "    \"invalid_data\"\n",
    "]\n",
    "\n",
    "for dato in datos:\n",
    "    procesar_entrada(dato)"
   ]
  },
  {
   "cell_type": "raw",
   "id": "05c498de-db76-497f-afe1-23a7f96df712",
   "metadata": {},
   "source": [
    "# Ejercicios Propuestos:\n",
    "\n",
    "# 1. Añadir un método de instancia a la clase Match llamado 'contar_coincidencias' que cuente el número de veces que un patrón aparece en el texto.\n",
    "# 2. Añadir un método de clase a la clase Match llamado 'crear_desde_archivo' que cree una instancia de la clase Match a partir del contenido de un archivo de texto.\n",
    "# 3. Añadir un método estático a la clase Match llamado 'es_palindromo' que verifique si una cadena de texto es un palíndromo (se lee igual de adelante hacia atrás y viceversa).\n"
   ]
  }
 ],
 "metadata": {
  "kernelspec": {
   "display_name": "Python 3 (ipykernel)",
   "language": "python",
   "name": "python3"
  },
  "language_info": {
   "codemirror_mode": {
    "name": "ipython",
    "version": 3
   },
   "file_extension": ".py",
   "mimetype": "text/x-python",
   "name": "python",
   "nbconvert_exporter": "python",
   "pygments_lexer": "ipython3",
   "version": "3.12.7"
  }
 },
 "nbformat": 4,
 "nbformat_minor": 5
}
