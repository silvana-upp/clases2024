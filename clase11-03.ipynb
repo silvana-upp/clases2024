{
 "cells": [
  {
   "cell_type": "code",
   "execution_count": 77,
   "id": "12d67635-96b5-4a47-b234-d0eeb7238d99",
   "metadata": {},
   "outputs": [
    {
     "name": "stdout",
     "output_type": "stream",
     "text": [
      "25\n",
      "30\n",
      "La edad debe ser positiva.\n"
     ]
    }
   ],
   "source": [
    "class Persona:\n",
    "    def __init__(self, nombre, edad):\n",
    "        self._nombre = nombre  # Atributo privado (convención con _)\n",
    "        self._edad = edad  \n",
    "\n",
    "    @property  # Getter\n",
    "    def edad(self):\n",
    "        return self._edad  \n",
    "\n",
    "    @edad.setter  # Setter\n",
    "    def edad(self, nueva_edad):\n",
    "        if nueva_edad > 0:\n",
    "            self._edad = nueva_edad\n",
    "        else:\n",
    "            print(\"La edad debe ser positiva.\")\n",
    "\n",
    "# Uso de la clase\n",
    "persona1 = Persona(\"Carlos\", 25)\n",
    "print(persona1.edad)  # Llamamos al getter → 25\n",
    "persona1.edad = 30  # Modificamos con el setter\n",
    "print(persona1.edad)  # 30\n",
    "persona1.edad = -5  # Intento inválido (saldrá un mensaje de error)"
   ]
  },
  {
   "cell_type": "code",
   "execution_count": 78,
   "id": "7800b054-3b45-4ba1-94e7-8a3d7e95bee2",
   "metadata": {},
   "outputs": [
    {
     "name": "stdout",
     "output_type": "stream",
     "text": [
      "<bound method Persona.edad of <__main__.Persona object at 0x104fc6450>>\n",
      "30\n",
      "\n"
     ]
    }
   ],
   "source": [
    "class Persona:\n",
    "    def __init__(self, nombre, edad):\n",
    "        self._nombre = nombre  # Atributo privado (convención con _)\n",
    "        self._edad = edad  \n",
    "\n",
    "    @property  # Getter\n",
    "    def edad(self):\n",
    "        return self._edad  \n",
    "\n",
    "    @edad.setter  # Setter\n",
    "    def edad(self, nueva_edad):\n",
    "        if nueva_edad > 0:\n",
    "            self._edad = nueva_edad\n",
    "        else:\n",
    "            print(\"La edad debe ser positiva.\")\n",
    "\n",
    "# Uso de la clase\n",
    "persona1 = Persona(\"Carlos\", 25)\n",
    "print(persona1.edad)  # sin el getter no lo podemos llamar\n",
    "persona1.edad = 30  # Modificamos con el setter\n",
    "print(persona1.edad)  # 30\n",
    "persona1.edad = -5  # Intento inválido (saldrá un mensaje de error)\n",
    "print()"
   ]
  },
  {
   "cell_type": "raw",
   "id": "971628ed-525b-41f7-ba97-fc234ae79efb",
   "metadata": {},
   "source": [
    "Dunner methods:\n",
    "https://www.pythonmorsels.com/every-dunder-method/"
   ]
  },
  {
   "cell_type": "raw",
   "id": "210941de-ad2e-4af1-b1dc-5d02b3ffc5e7",
   "metadata": {},
   "source": [
    "__init__ → Constructor (Inicializa objetos)\n",
    "__str__ → Representación amigable (para print())\n",
    "__repr__ → Representación técnica del objeto (igual devuelde un str)"
   ]
  },
  {
   "cell_type": "code",
   "execution_count": 84,
   "id": "b9e20e90-be68-49da-82a1-09ea79d6207b",
   "metadata": {},
   "outputs": [
    {
     "name": "stdout",
     "output_type": "stream",
     "text": [
      "Carlos, 30 años\n",
      "<bound method Persona.prt of Carlos, 30 años>\n"
     ]
    }
   ],
   "source": [
    "class Persona:\n",
    "    def __init__(self, nombre, edad):\n",
    "        self.nombre = nombre\n",
    "        self.edad = edad\n",
    "    def __repr__(self):\n",
    "            return f\"{self.nombre}, {self.edad} años\"\n",
    "    def prt(self):\n",
    "        print(f\"{self.nombre}, {self.edad} años\")\n",
    "\n",
    "p = Persona(\"Carlos\", 30) #no hay que mandarle a imprimir nada, solo de da el print\n",
    "print(p)  # Salida: Carlos, 30 años\n",
    "print(p.prt)"
   ]
  },
  {
   "cell_type": "code",
   "execution_count": 87,
   "id": "f2be1dc2-8c6e-4085-a3ce-e3ca2ac92e02",
   "metadata": {},
   "outputs": [
    {
     "name": "stdout",
     "output_type": "stream",
     "text": [
      "10\n",
      "5\n",
      "15\n",
      "False\n"
     ]
    }
   ],
   "source": [
    "class Numero:\n",
    "    def __init__(self, valor):\n",
    "        self.valor = valor\n",
    "\n",
    "    def __add__(self, otro):\n",
    "        return Numero(self.valor + otro.valor)\n",
    "\n",
    "    def __str__(self):\n",
    "        return str(self.valor)\n",
    "        \n",
    "    def __eq__(self,otro):\n",
    "        return Numero(self.valor == otro.valor)\n",
    "\n",
    "n1 = Numero(10)\n",
    "n2 = Numero(5)\n",
    "print(n1)\n",
    "print(n2)\n",
    "print(n1 + n2)  # Salida: 15\n",
    "print(n1==n2)"
   ]
  },
  {
   "cell_type": "raw",
   "id": "b81a61d4-fe97-4f28-bdca-07b0a871de93",
   "metadata": {},
   "source": [
    "__len__ → Define len(objeto)\n",
    "__getitem__ → Acceder con obj[index]"
   ]
  },
  {
   "cell_type": "code",
   "execution_count": 89,
   "id": "622408b5-ab5e-4973-996a-b16355e3a380",
   "metadata": {},
   "outputs": [
    {
     "name": "stdout",
     "output_type": "stream",
     "text": [
      "3\n",
      "Ana\n"
     ]
    }
   ],
   "source": [
    "class Grupo:\n",
    "    def __init__(self, miembros):\n",
    "        self.miembros = miembros\n",
    "\n",
    "    def __len__(self):\n",
    "        return len(self.miembros)\n",
    "    \n",
    "    def __getitem__(self, indice):\n",
    "        return self.miembros[indice]\n",
    "\n",
    "g = Grupo([\"Ana\", \"Carlos\", \"Pedro\"])\n",
    "print(len(g))  # Salida: 3\n",
    "print(g[0]) "
   ]
  },
  {
   "cell_type": "raw",
   "id": "e2b09653-30bd-47aa-ace8-8eb35e67fced",
   "metadata": {},
   "source": [
    "Permiten que un objeto se pueda recorrer con un for.\n",
    "__iter__ y __next__ → Hacer un objeto iterable"
   ]
  },
  {
   "cell_type": "code",
   "execution_count": 90,
   "id": "a5e8dc5a-8c82-4166-89be-3904c3210651",
   "metadata": {},
   "outputs": [
    {
     "name": "stdout",
     "output_type": "stream",
     "text": [
      "1\n",
      "2\n",
      "3\n",
      "4\n",
      "5\n"
     ]
    }
   ],
   "source": [
    "class Contador: \n",
    "    def __init__(self, inicio, fin):\n",
    "        self.inicio = inicio\n",
    "        self.fin = fin\n",
    "\n",
    "    def __iter__(self):\n",
    "        self.actual = self.inicio\n",
    "        return self\n",
    "\n",
    "    def __next__(self):\n",
    "        if self.actual > self.fin:\n",
    "            raise StopIteration\n",
    "        self.actual += 1\n",
    "        return self.actual - 1\n",
    "\n",
    "for numero in Contador(1, 5):\n",
    "    print(numero)\n",
    "# Salida: 1, 2, 3, 4, 5"
   ]
  }
 ],
 "metadata": {
  "kernelspec": {
   "display_name": "Python 3 (ipykernel)",
   "language": "python",
   "name": "python3"
  },
  "language_info": {
   "codemirror_mode": {
    "name": "ipython",
    "version": 3
   },
   "file_extension": ".py",
   "mimetype": "text/x-python",
   "name": "python",
   "nbconvert_exporter": "python",
   "pygments_lexer": "ipython3",
   "version": "3.12.8"
  }
 },
 "nbformat": 4,
 "nbformat_minor": 5
}
