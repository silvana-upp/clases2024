{
 "cells": [
  {
   "cell_type": "raw",
   "id": "75f01c06-a8b2-48a8-b556-85b31a694da3",
   "metadata": {},
   "source": [
    "Definimos clases"
   ]
  },
  {
   "cell_type": "code",
   "execution_count": 7,
   "id": "86586b10-097a-4cd3-b303-dc56d324b006",
   "metadata": {},
   "outputs": [
    {
     "name": "stdout",
     "output_type": "stream",
     "text": [
      "Baloo\n"
     ]
    }
   ],
   "source": [
    "class Perro:\n",
    "    def __init__(self, nombre, edad,juguetes):\n",
    "        self.n = nombre  # Variable de instancia\n",
    "        self.a = edad     # Variable de instancia\n",
    "        self.j= juguetes\n",
    "\n",
    "perro1 = Perro(\"Baloo\", 9,[\"pelotas,kongs\"])  # Creación de objeto\n",
    "perro2= Perro(\"Boro\",2,[\"cuerdas,peluches\"])\n",
    "print(perro1.n) #llamar directamente"
   ]
  },
  {
   "cell_type": "code",
   "execution_count": 11,
   "id": "1d0e40b3-b427-4d8d-8a2e-b8b1da98ad85",
   "metadata": {},
   "outputs": [
    {
     "name": "stdout",
     "output_type": "stream",
     "text": [
      "Baloo tiene 9 años y le gustan\n",
      "pelotas,kongs\n",
      "Boro tiene 2 años y le gustan\n",
      "cuerdas,peluches\n"
     ]
    }
   ],
   "source": [
    "perros=[perro1,perro2]\n",
    "for mascota in perros:\n",
    "    print(f\"{mascota.n} tiene {mascota.a} años y le gustan\")\n",
    "    for i in mascota.j:\n",
    "        print(i)"
   ]
  },
  {
   "cell_type": "raw",
   "id": "7bcbc48b-6a97-4a39-8eb7-6f642845c1b2",
   "metadata": {},
   "source": [
    "Ejercicio 1:\n",
    "Crea una clase \"Coche\" con los atributos marca y modelo. Luego, crea una lista de objetos para mostrar sus valores"
   ]
  },
  {
   "cell_type": "code",
   "execution_count": 13,
   "id": "95b9f069-007e-468a-985d-c31ba966e71c",
   "metadata": {},
   "outputs": [
    {
     "name": "stdout",
     "output_type": "stream",
     "text": [
      "Hola, mi nombre es Silvana y mi animal favorito es perro\n",
      "Silvana\n"
     ]
    }
   ],
   "source": [
    "class Persona:\n",
    "    def __init__(self, nombre, animal_favorito):\n",
    "        self.n = nombre  # Variable de instancia\n",
    "        self.a = animal_favorito     # Variable de instancia\n",
    "\n",
    "    def saludar(self):\n",
    "        print(f\"Hola, mi nombre es {self.n} y mi animal favorito es {self.a}\")\n",
    "\n",
    "persona1 = Persona(\"Silvana\", \"perro\")  # Creación de objeto\n",
    "persona1.saludar()  # Llamar método\n",
    "print(persona1.n) #llamar directamente"
   ]
  },
  {
   "cell_type": "raw",
   "id": "e0b900f5-5f11-4bf4-86e0-904d7794e50e",
   "metadata": {},
   "source": [
    "Ejercicio 2\n",
    "Añade un método mostrar_info() a la clase Coche que imprima la marca y el modelo del coche. Luego, prueba el método con un objeto."
   ]
  },
  {
   "cell_type": "code",
   "execution_count": null,
   "id": "bada79c0-a842-487a-aae2-e09cf36f32c9",
   "metadata": {},
   "outputs": [],
   "source": []
  }
 ],
 "metadata": {
  "kernelspec": {
   "display_name": "Python [conda env:base] *",
   "language": "python",
   "name": "conda-base-py"
  },
  "language_info": {
   "codemirror_mode": {
    "name": "ipython",
    "version": 3
   },
   "file_extension": ".py",
   "mimetype": "text/x-python",
   "name": "python",
   "nbconvert_exporter": "python",
   "pygments_lexer": "ipython3",
   "version": "3.12.7"
  }
 },
 "nbformat": 4,
 "nbformat_minor": 5
}
