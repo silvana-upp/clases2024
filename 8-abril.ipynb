{
 "cells": [
  {
   "cell_type": "code",
   "execution_count": null,
   "id": "50772f37-1774-4b02-bc3e-059e5dc349a2",
   "metadata": {},
   "outputs": [],
   "source": [
    "class Pedido:\n",
    "    def __init__(self, cliente):\n",
    "        self.cliente = cliente\n",
    "        self.pasos = []\n",
    "\n",
    "    def tomar_pedido(self):\n",
    "        self.pasos.append(\"Tomar pedido\")\n",
    "        self.validar_disponibilidad()\n",
    "\n",
    "    def validar_disponibilidad(self):\n",
    "        self.pasos.append(\"Validar disponibilidad\")\n",
    "        self.preparar_pedido()\n",
    "    \n",
    "    def preparar_pedido(self):\n",
    "        self.pasos.append(\"Preparar pedido\")\n",
    "        self.entregar()\n",
    "\n",
    "    def entregar(self):\n",
    "        self.pasos.append(\"Entregar al cliente\")\n",
    "\n",
    "    def resumen(self):\n",
    "        print(f\"Pedido para: {self.cliente}\")\n",
    "        for paso in self.pasos:\n",
    "            print(f\"-> {paso}\")\n",
    "        print(5555)\n",
    "\n",
    "# Simulación\n",
    "pedido1 = Pedido(\"Silvana\")\n",
    "pedido1.tomar_pedido()\n",
    "pedido1.resumen()\n"
   ]
  },
  {
   "cell_type": "raw",
   "id": "9ca53362-d54a-46f6-96f5-ca802d43011c",
   "metadata": {},
   "source": []
  },
  {
   "cell_type": "code",
   "execution_count": null,
   "id": "ff1e0032-dfaa-4f58-9e3a-17137cb1118c",
   "metadata": {},
   "outputs": [],
   "source": [
    "def saludo():\n",
    "    print(\"¡Hola, mundo!\")\n",
    "\n",
    "def saludo():\n",
    "    print(\"Hello world!\")\n",
    "\n",
    "saludo()  # Hello world!\n"
   ]
  },
  {
   "cell_type": "code",
   "execution_count": null,
   "id": "a456ece3-dc77-4b22-a48a-113ddf3e351e",
   "metadata": {
    "scrolled": true
   },
   "outputs": [],
   "source": [
    "def add(a, b):\n",
    "    if isinstance(a, int) and isinstance(b, int):\n",
    "        return a + b\n",
    "    elif isinstance(a, str) and isinstance(b, str):\n",
    "        return \" \".join((a, b))\n",
    "    else:\n",
    "        raise TypeError\n",
    "print(add(7, 5))  # 12\n",
    "print(add(\"¡Hola,\", \"mundo!\"))  # ¡Hola, mundo!"
   ]
  },
  {
   "cell_type": "code",
   "execution_count": null,
   "id": "46fce3fd-60d0-45b6-8053-b94bb4c3f51c",
   "metadata": {},
   "outputs": [],
   "source": [
    "import sys\n",
    "# Sobrecarga de funciones \n",
    "class Calculadora:\n",
    "    @staticmethod\n",
    "    def operar(*numeros, operacion=\"sumar\"):\n",
    "        if operacion == \"sumar\":\n",
    "            return sum(numeros)\n",
    "        elif operacion == \"multiplicar\":\n",
    "            resultado = 1\n",
    "            for n in numeros:\n",
    "                resultado *= n\n",
    "            return resultado\n",
    "        else:\n",
    "            sys.exit(\"Operación no soportada\")\n",
    "\n",
    "print(Calculadora.operar(2, 3, 4))                     # Suma\n",
    "print(Calculadora.operar(2, 3, 4, operacion=\"multiplicar\"))# Multiplicación\n",
    "print(Calculadora.operar(2, 3, 4, operacion=\"hshhshs\"))"
   ]
  },
  {
   "cell_type": "raw",
   "id": "e5053465-b1eb-44b7-b05c-5b3dfaf5acd9",
   "metadata": {},
   "source": [
    "Ejercio 2:\n",
    "Modifica la clase para que tenga una operación \"promedio\", y lanza una excepción si se intenta operar sin pasar ningún número."
   ]
  },
  {
   "cell_type": "code",
   "execution_count": null,
   "id": "67595ee3-6748-47d2-8991-c64c9dd41462",
   "metadata": {},
   "outputs": [],
   "source": [
    "#Listas como objetos +paso de arreglos\n",
    "import numpy as np\n",
    "\n",
    "class MatrizPersonalizada:\n",
    "    def __init__(self, datos):\n",
    "        self.matriz = np.array(datos)\n",
    "\n",
    "    def __add__(self, otra_matriz):\n",
    "        if self.matriz.shape == otra_matriz.matriz.shape:\n",
    "            return MatrizPersonalizada(self.matriz + otra_matriz.matriz)\n",
    "        else:\n",
    "            raise ValueError(\"Las dimensiones de las matrices deben coincidir para la suma.\")\n",
    "\n",
    "    def __mul__(self, escalar):\n",
    "        if isinstance(escalar, (int, float)):\n",
    "            return MatrizPersonalizada(self.matriz * escalar)\n",
    "        else:\n",
    "            raise TypeError(\"El operando derecho debe ser un escalar (int o float).\")\n",
    "\n",
    "    def __repr__(self):\n",
    "        return repr(self.matriz)\n",
    "\n",
    "mat1 = MatrizPersonalizada([[1, 2], [3, 4]])\n",
    "mat2 = MatrizPersonalizada([[5, 6], [7, 8]])\n",
    "escalar = 2\n",
    "\n",
    "suma_matrices = mat1 + mat2\n",
    "multiplicacion_escalar = mat1 * escalar\n",
    "\n",
    "print(f\"Matriz 1:\\n{mat1}\")\n",
    "print(f\"Matriz 2:\\n{mat2}\")\n",
    "print(f\"Suma de matrices:\\n{suma_matrices}\")\n",
    "print(f\"Multiplicación escalar (mat1 * {escalar}):\\n{multiplicacion_escalar}\")"
   ]
  },
  {
   "cell_type": "code",
   "execution_count": 5,
   "id": "08710816-fd05-4879-b44f-3f51abf41c4c",
   "metadata": {},
   "outputs": [
    {
     "name": "stdout",
     "output_type": "stream",
     "text": [
      "Ana: 89.00\n",
      "Luis: 75.00\n",
      "Luis\n"
     ]
    }
   ],
   "source": [
    "\n",
    "class Estudiante:\n",
    "    def __init__(self, nombre, *notas):\n",
    "        self.nombre = nombre\n",
    "        self.notas = list(notas)\n",
    "\n",
    "    def promedio(self):\n",
    "        return sum(self.notas) / len(self.notas)\n",
    "\n",
    "class Curso:\n",
    "    def __init__(self, nombre):\n",
    "        self.nombre = nombre\n",
    "        self.estudiantes = []\n",
    "\n",
    "    def agregar_estudiante(self, estudiante):\n",
    "        self.estudiantes.append(estudiante)\n",
    "\n",
    "    def mostrar_promedios(self):\n",
    "        for e in self.estudiantes:\n",
    "            print(f\"{e.nombre}: {e.promedio():.2f}\")\n",
    "\n",
    "curso = Curso(\"POO\")\n",
    "curso.agregar_estudiante(Estudiante(\"Ana\", 90, 85, 92))\n",
    "curso.agregar_estudiante(Estudiante(\"Luis\", 70, 75, 80))\n",
    "curso.mostrar_promedios()\n",
    "print(curso.estudiantes[1].nombre)\n"
   ]
  },
  {
   "cell_type": "raw",
   "id": "139dca2b-ba98-40d8-9d2f-1ab184209f72",
   "metadata": {},
   "source": [
    "Ejercico 1:\n",
    "Agrega un método al curso que calcule y devuelva el promedio general del curso. "
   ]
  }
 ],
 "metadata": {
  "kernelspec": {
   "display_name": "Python 3 (ipykernel)",
   "language": "python",
   "name": "python3"
  },
  "language_info": {
   "codemirror_mode": {
    "name": "ipython",
    "version": 3
   },
   "file_extension": ".py",
   "mimetype": "text/x-python",
   "name": "python",
   "nbconvert_exporter": "python",
   "pygments_lexer": "ipython3",
   "version": "3.12.7"
  }
 },
 "nbformat": 4,
 "nbformat_minor": 5
}
