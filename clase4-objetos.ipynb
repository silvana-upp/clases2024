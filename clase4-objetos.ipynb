{
 "cells": [
  {
   "cell_type": "raw",
   "id": "75f01c06-a8b2-48a8-b556-85b31a694da3",
   "metadata": {},
   "source": [
    "Variables de instancia, y variables de Default"
   ]
  },
  {
   "cell_type": "code",
   "execution_count": null,
   "id": "86586b10-097a-4cd3-b303-dc56d324b006",
   "metadata": {},
   "outputs": [],
   "source": [
    "class Car:\n",
    "    def __init__(self, make, model, year):\n",
    "        \"\"\"Initialize attributes to describe a car.\"\"\"\n",
    "        self.make = make\n",
    "        self.model = model\n",
    "        self.year = year\n",
    "        self.odometer_reading = 0\n",
    "    def get_descriptive_name(self):\n",
    "        print(self.make,self.model,self.year)\n",
    "    def read_odometer(self):\n",
    "        \"\"\"Print a statement showing the car's mileage.\"\"\"\n",
    "        print(f\"This car has {self.odometer_reading} kilometers on it.\")\n",
    "my_new_car = Car('audi', 'a4', 2024)\n",
    "my_new_car.get_descriptive_name()\n",
    "my_new_car.read_odometer()"
   ]
  },
  {
   "cell_type": "code",
   "execution_count": null,
   "id": "1d0e40b3-b427-4d8d-8a2e-b8b1da98ad85",
   "metadata": {},
   "outputs": [],
   "source": [
    "for i in range(20):\n",
    "    my_new_car.odometer_reading = i+1\n",
    "    my_new_car.read_odometer()\n",
    "    "
   ]
  },
  {
   "cell_type": "code",
   "execution_count": null,
   "id": "95b9f069-007e-468a-985d-c31ba966e71c",
   "metadata": {},
   "outputs": [],
   "source": [
    "class Car:\n",
    "    def __init__(self, make, model, year):\n",
    "        \"\"\"Initialize attributes to describe a car.\"\"\"\n",
    "        self.make = make\n",
    "        self.model = model\n",
    "        self.year = year\n",
    "        self.odometer_reading = 0\n",
    "    def get_descriptive_name(self):\n",
    "        print(self.make,self.model,self.year)\n",
    "    def read_odometer(self):\n",
    "        \"\"\"Print a statement showing the car's mileage.\"\"\"\n",
    "        print(f\"This car has {self.odometer_reading} kilometers on it.\")\n",
    "    def update_odometer(self, kilometraje):\n",
    "        \"\"\"Set the odometer reading to the given value.\"\"\"\n",
    "        if kilometraje <= 100:\n",
    "            self.odometer_reading = kilometraje\n",
    "        else:\n",
    "            print(f\"Tu kilometraje {kilometraje} es muy alto, ya llevalo al servicio\")\n",
    "            \n",
    "my_new_car = Car('audi', 'a4', 2024)\n",
    "my_new_car.get_descriptive_name()\n",
    "my_new_car.read_odometer()\n"
   ]
  },
  {
   "cell_type": "code",
   "execution_count": null,
   "id": "bada79c0-a842-487a-aae2-e09cf36f32c9",
   "metadata": {},
   "outputs": [],
   "source": [
    "for i in range(101):\n",
    "    my_new_car.update_odometer(i+1)\n",
    "    my_new_car.read_odometer()"
   ]
  },
  {
   "cell_type": "code",
   "execution_count": 7,
   "id": "9d31add8-cb0d-436b-b584-ead6b9eed408",
   "metadata": {},
   "outputs": [
    {
     "name": "stdout",
     "output_type": "stream",
     "text": [
      "subaru outback 2019\n",
      "This car has 23500 kilometers on it.\n",
      "This car has 23600 kilometers on it.\n"
     ]
    }
   ],
   "source": [
    "class Car:\n",
    "    def __init__(self, make, model, year):#  \"marca,modelo,año\"\n",
    "        \"\"\"Atributos para describir el carro.\"\"\"\n",
    "        self.make = make\n",
    "        self.model = model\n",
    "        self.year = year\n",
    "        self.odometer_reading = 0\n",
    "    def get_descriptive_name(self):\n",
    "        \"descriptor del carro\"\n",
    "        print(self.make,self.model,self.year)\n",
    "    def read_odometer(self):\n",
    "        \"\"\"Imprimir el kilometraje del carro\"\"\"\n",
    "        print(f\"This car has {self.odometer_reading} kilometers on it.\")\n",
    "    def update_odometer(self, kilometraje):\n",
    "        \"\"\"Actualizar el kilometra al con un valor dado\"\"\"\n",
    "        if kilometraje <= 1000000: #condicional para no execeder el valor del kilometraje\n",
    "            self.odometer_reading = kilometraje\n",
    "        else:\n",
    "            print(f\"Tu kilometraje {kilometraje} es muy alto, ya llevalo al servicio\")\n",
    "    def increment_odometer(self, kilometros): \n",
    "        \"\"\"Acumulacion del kilometraje.\"\"\"\n",
    "        self.odometer_reading += kilometros\n",
    "    \n",
    "my_used_car = Car('subaru', 'outback', 2019)\n",
    "my_used_car.get_descriptive_name()\n",
    "my_used_car.update_odometer(23_500)\n",
    "my_used_car.read_odometer()\n",
    "my_used_car.increment_odometer(100)\n",
    "my_used_car.read_odometer()"
   ]
  },
  {
   "cell_type": "raw",
   "id": "fc38a852-ee91-4aea-97ab-3555b083825c",
   "metadata": {},
   "source": [
    "Ejercicio:\n",
    "Crear una Clase: Define una clase llamada CuentaBancaria. La clase CuentaBancaria debe tener los siguientes atributos:\n",
    "titular --> (por ejemplo, 'Juan Pérez')\n",
    "saldo --> (inicializado en 0 o un saldo inicial especificado)\n",
    "\n",
    "Definir Métodos:\n",
    "depositar(cantidad): Este método debe depositar una cierta cantidad en la cuenta bancaria. Debe imprimir el nuevo saldo después del depósito.\n",
    "retirar(cantidad): Este método debe retirar una cierta cantidad de la cuenta bancaria. Debe imprimir el nuevo saldo después del retiro. Asegúrate de que la cantidad de retiro sea válida (es decir, positiva y menor o igual al saldo actual).\n",
    "obtener_saldo(): Este método debe imprimir el saldo actual de la cuenta bancaria.\n",
    "Crear una Instancia: Crea una instancia de la clase CuentaBancaria y demuestra la funcionalidad de cada método. Asegúrate de intentar retirar una cantidad no válida para mostrar que la clase maneja correctamente dichos casos.\n",
    "\n",
    "Modificar y Probar: Modifica los atributos titular y saldo para probar si la clase funciona correctamente con diferentes detalles de cuenta."
   ]
  },
  {
   "cell_type": "code",
   "execution_count": 9,
   "id": "57160282-1cb3-421f-a8ca-9f4f24d3ccdc",
   "metadata": {},
   "outputs": [
    {
     "name": "stdout",
     "output_type": "stream",
     "text": [
      "nissan leaf 2024\n"
     ]
    }
   ],
   "source": [
    "class ElectricCar(Car):\n",
    "    \"\"\"Represent aspects of a car, specific to electric vehicles.\"\"\"\n",
    "    def __init__(self, make, model, year):\n",
    "        \"\"\"Initialize attributes of the parent class.\"\"\"\n",
    "        super().__init__(make, model, year)\n",
    "\n",
    "my_leaf = ElectricCar('nissan', 'leaf', 2024)\n",
    "my_leaf.get_descriptive_name()"
   ]
  },
  {
   "cell_type": "code",
   "execution_count": 11,
   "id": "2ec9222e-19f4-4bc4-914d-e8704a678465",
   "metadata": {},
   "outputs": [
    {
     "name": "stdout",
     "output_type": "stream",
     "text": [
      "Hola, soy Carlos y tengo 20 años.\n",
      "y estudio en: UNAM\n"
     ]
    }
   ],
   "source": [
    "# Clase padre\n",
    "class Persona:\n",
    "    def __init__(self, nombre, edad):\n",
    "        self.nombre = nombre\n",
    "        self.edad = edad\n",
    "\n",
    "    def presentarse(self):\n",
    "        print(f\"Hola, soy {self.nombre} y tengo {self.edad} años.\")\n",
    "\n",
    "# Clase hija\n",
    "class Estudiante(Persona):\n",
    "    def __init__(self, nombre, edad, universidad):\n",
    "        super().__init__(nombre, edad)  # Llamar al constructor de la clase padre\n",
    "        self.universidad = universidad\n",
    "\n",
    "# Crear un objeto de la clase hija\n",
    "estudiante1 = Estudiante(\"Carlos\", 20, \"UNAM\")\n",
    "estudiante1.presentarse()  # Salida: Hola, soy Carlos y tengo 20 años.\n",
    "print(f\"y estudio en: {estudiante1.universidad}\")  # Salida: UNAM"
   ]
  },
  {
   "cell_type": "raw",
   "id": "f658bdec-0fa2-43ca-862c-7ce58b0edfe3",
   "metadata": {},
   "source": [
    "Ejercicio:\n",
    "Crea una clase Empleado que herede de la cuenta de banco, y tenga ademas un sueldo base, empresa . \n",
    "cuenta hija empresa!!\n",
    "Crea un objeto y prueba sus atributos."
   ]
  }
 ],
 "metadata": {
  "kernelspec": {
   "display_name": "Python 3 (ipykernel)",
   "language": "python",
   "name": "python3"
  },
  "language_info": {
   "codemirror_mode": {
    "name": "ipython",
    "version": 3
   },
   "file_extension": ".py",
   "mimetype": "text/x-python",
   "name": "python",
   "nbconvert_exporter": "python",
   "pygments_lexer": "ipython3",
   "version": "3.12.7"
  }
 },
 "nbformat": 4,
 "nbformat_minor": 5
}
