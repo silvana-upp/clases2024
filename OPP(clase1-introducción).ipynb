{
 "cells": [
  {
   "cell_type": "raw",
   "id": "a2ec0b32-607f-4292-8302-e362e83ecdc9",
   "metadata": {},
   "source": [
    " Repaso de tipos de datos y operadores \n",
    "¿Qué tipo de operador tenemos? "
   ]
  },
  {
   "cell_type": "code",
   "execution_count": 1,
   "id": "a91340b9-8e59-40d7-98fd-21cbc37b0809",
   "metadata": {},
   "outputs": [
    {
     "name": "stdout",
     "output_type": "stream",
     "text": [
      "La fruta es: piña\n"
     ]
    }
   ],
   "source": [
    "nombre = \"piña\"  #cadena \n",
    "cantidad  =  1 #int\n",
    "peso_aprox = 1.75 #float\n",
    "es_fruta = True  #boleano\n",
    "print(\"La fruta es:\",nombre)"
   ]
  },
  {
   "cell_type": "raw",
   "id": "c8952d43-837a-4d68-b1f4-37e2bde8061e",
   "metadata": {},
   "source": [
    "Aritméticos: +, -, *, /, //, %, **.\n",
    "Comparación: ==, !=, >, <, >=, <=.\n",
    "Lógicos: and, or, not."
   ]
  },
  {
   "cell_type": "code",
   "execution_count": 3,
   "id": "0f9c61d9-b073-4c43-b296-e6bb70bb1004",
   "metadata": {},
   "outputs": [
    {
     "name": "stdout",
     "output_type": "stream",
     "text": [
      "La piña es fruta\n"
     ]
    }
   ],
   "source": [
    "if es_fruta == True: \n",
    "    print(f\"La {nombre} es fruta\")\n",
    "else:\n",
    "    print(f\"la {nombre} no es fruta\")"
   ]
  },
  {
   "cell_type": "raw",
   "id": "273f87da-4c33-439a-8170-7f2c9bb7f15c",
   "metadata": {},
   "source": [
    "Actividad: \n",
    "Calcular el área de un triángulo usando variables y operadores.\n",
    "elevarlo al cuadrado, redondearlo hacia arriba\n",
    "Añadir si el resultado es par o impar"
   ]
  },
  {
   "cell_type": "code",
   "execution_count": null,
   "id": "31fdc953-174a-4b59-8424-875c3c3b9c39",
   "metadata": {},
   "outputs": [],
   "source": []
  },
  {
   "cell_type": "markdown",
   "id": "8674f175-d559-46cc-bd4e-7ea0697b06dd",
   "metadata": {},
   "source": [
    "Estructuras de datos en Python"
   ]
  },
  {
   "cell_type": "raw",
   "id": "cefce143-2f58-4f55-aafd-d582b2ebc626",
   "metadata": {},
   "source": [
    "Listas y tuplas para python"
   ]
  },
  {
   "cell_type": "code",
   "execution_count": 23,
   "id": "148eabfa-d3c3-40bc-984c-66ffdc3a460a",
   "metadata": {},
   "outputs": [
    {
     "name": "stdout",
     "output_type": "stream",
     "text": [
      "frijoles\n",
      "manzana es fruta\n",
      "fresa es fruta\n",
      "zanahoria no es fruta\n",
      "tomate es fruta\n",
      "brocoli no es fruta\n",
      "frijoles no es fruta\n",
      "Sandia es fruta\n"
     ]
    }
   ],
   "source": [
    "frutas=[(\"manzana\",True),(\"fresa\",True),(\"zanahoria\",False),(\"tomate\",True),(\"brocoli\",False),(\"frijoles\",False),(\"Sandia\",True)]\n",
    "print(frutas[-2][0])\n",
    "for i in frutas:\n",
    "    if i[1]==True:print(i[0] + \" es fruta\")\n",
    "    else: print(i[0]+\" no es fruta\")"
   ]
  },
  {
   "cell_type": "raw",
   "id": "03de544b-928c-43da-b29b-12e5d12093dd",
   "metadata": {},
   "source": [
    "Diccionarios: "
   ]
  },
  {
   "cell_type": "code",
   "execution_count": 57,
   "id": "0ed48de4-147c-4ba3-b1cd-ae70ae5fceb5",
   "metadata": {
    "collapsed": true,
    "jupyter": {
     "outputs_hidden": true
    },
    "scrolled": true
   },
   "outputs": [
    {
     "name": "stdout",
     "output_type": "stream",
     "text": [
      "0\n",
      "1\n",
      "2\n",
      "3\n",
      "4\n",
      "5\n",
      "6\n",
      "7\n",
      "8\n",
      "9\n",
      "[True, True, False]\n",
      "fresa True\n"
     ]
    }
   ],
   "source": [
    "f_nombre=[\"manzana\",'fresa','Zanahoria']\n",
    "es_fruta=[True,True,False]\n",
    "#define el diccionario donde cada entrada es una lista:\n",
    "fruta = {\"nombre\": f_nombre, \"es_fruta\": es_fruta} \n",
    "\n",
    "def frutfrut(variable):\n",
    "    #cuando le hablas al diccionario te da la lista que ingresaste \n",
    "    f_n=variable[\"nombre\"]\n",
    "    e_f=variable[\"es_fruta\"]\n",
    "    print(e_f)\n",
    "    i=1\n",
    "    print(f_n[i],e_f[i])\n",
    "\n",
    "for i in range(10):print(i\n",
    "frutfrut(fruta)\n"
   ]
  },
  {
   "cell_type": "code",
   "execution_count": null,
   "id": "d0a1da27-acfb-4840-9dc4-0082a74c9c75",
   "metadata": {},
   "outputs": [],
   "source": []
  },
  {
   "cell_type": "raw",
   "id": "db7b201e-48eb-400b-87b8-269bd4ffd473",
   "metadata": {},
   "source": [
    "1-crear un diccionario con la propiedades de las frutas\n",
    "2-preguntarnos si es fruta dentro de una funcion llamando a al diccionario para preguntarle si es fruta\n",
    "3-imprimir todas las propiedades\n",
    "4-preguntarle al usuario cuantas lleva y hacer la multiplicacion\n"
   ]
  },
  {
   "cell_type": "raw",
   "id": "ddd83ab1-6934-44a9-8fc9-cc5d30cd9806",
   "metadata": {},
   "source": [
    "Funciones"
   ]
  },
  {
   "cell_type": "code",
   "execution_count": null,
   "id": "edcbd7af-ec99-47c1-88da-ba11250ed8cf",
   "metadata": {},
   "outputs": [],
   "source": [
    "def potencia(base, exponente=2):\n",
    "    return base ** exponente\n",
    "\n",
    "print(potencia(3))  # 3² = 9\n",
    "print(potencia(3, 3))  # 3³ = 27"
   ]
  },
  {
   "cell_type": "raw",
   "id": "c4378f31-07f4-44b0-b9ed-f4adfb07bb9f",
   "metadata": {},
   "source": [
    "Ejercicios prácticos\n",
    "📌 Ejercicio 1: Escribir una función que reciba una lista de números y devuelva la suma de los elementos.\n",
    "📌 Ejercicio 2: Crear una función que reciba un número y retorne True si es primo, y False en caso contrario.\n",
    "📌 Ejercicio 3: Construir una función clasificadora de frutas y verduras \n"
   ]
  }
 ],
 "metadata": {
  "kernelspec": {
   "display_name": "Python 3 (ipykernel)",
   "language": "python",
   "name": "python3"
  },
  "language_info": {
   "codemirror_mode": {
    "name": "ipython",
    "version": 3
   },
   "file_extension": ".py",
   "mimetype": "text/x-python",
   "name": "python",
   "nbconvert_exporter": "python",
   "pygments_lexer": "ipython3",
   "version": "3.12.7"
  }
 },
 "nbformat": 4,
 "nbformat_minor": 5
}
