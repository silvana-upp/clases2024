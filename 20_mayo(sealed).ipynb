{
 "cells": [
  {
   "cell_type": "raw",
   "id": "12db6d2b-b1f9-4829-acd1-8988e7883653",
   "metadata": {},
   "source": [
    "Uso del dunner: __init_subclass__"
   ]
  },
  {
   "cell_type": "code",
   "execution_count": null,
   "id": "e10007a4-d799-44b0-a68b-312f2602ff9a",
   "metadata": {},
   "outputs": [],
   "source": [
    "class SecureFile:\n",
    "    def __init_subclass__(cls, **kwargs):\n",
    "        raise TypeError(f\"No se permite heredar de {cls.__name__}\")\n",
    "\n",
    "    def open(self):\n",
    "        print(\"Archivo seguro abierto\")\n",
    "\n",
    "class MyFile(SecureFile):  # TypeError\n",
    "     pass"
   ]
  },
  {
   "cell_type": "code",
   "execution_count": null,
   "id": "ab6d82c5-b130-4914-9943-72ffaed720a6",
   "metadata": {},
   "outputs": [],
   "source": [
    "class Logger:\n",
    "    def log(self, msg):\n",
    "        print(msg)\n",
    "    \n",
    "    def __init_subclass__(cls, **kwargs): \n",
    "        raise TypeError(f\"No se permite heredar de {cls.__name__}\")\n",
    "\n",
    "# Esto lanzará un error en tiempo de ejecución:\n",
    "class CustomLogger(Logger):\n",
    "    pass  # TypeError: No se permite heredar de CustomLogger"
   ]
  },
  {
   "cell_type": "raw",
   "id": "533b84cd-baee-49aa-82b9-02212c748298",
   "metadata": {},
   "source": [
    "Usando  el prefijo _ "
   ]
  },
  {
   "cell_type": "code",
   "execution_count": null,
   "id": "5ef0cfbe-d056-4d41-80b8-c4c36c8a8053",
   "metadata": {},
   "outputs": [],
   "source": [
    "class _InternalProcessor:\n",
    "    \"\"\"Clase interna, no debe ser heredada ni usada fuera de este módulo.\"\"\"\n",
    "    def procesar(self, data):\n",
    "        print(\"Procesando datos\")"
   ]
  },
  {
   "cell_type": "code",
   "execution_count": null,
   "id": "91b35ebd-6174-494e-be96-c1ca04ba768b",
   "metadata": {},
   "outputs": [],
   "source": [
    "class _Currency:\n",
    "    \"\"\"\n",
    "    Esta clase no está diseñada para ser heredada.\n",
    "    Usa composición si necesitas extender su funcionalidad.\n",
    "    \"\"\"\n",
    "    def __init__(self, code, value):\n",
    "        self.code = code\n",
    "        self.value = value"
   ]
  },
  {
   "cell_type": "markdown",
   "id": "83a912c8-036e-406e-a7cc-3b8dd1d7e158",
   "metadata": {},
   "source": [
    "Metaclase personalizada "
   ]
  },
  {
   "cell_type": "code",
   "execution_count": null,
   "id": "29d833b5-ad4d-4783-b992-5f41bfc2fa93",
   "metadata": {},
   "outputs": [],
   "source": [
    "class FinalMeta(type):\n",
    "    def __new__(mcs, name, bases, namespace):\n",
    "        for base in bases:\n",
    "            if isinstance(base, FinalMeta):\n",
    "                raise TypeError(f\"No se puede heredar de clase final: {base.__name__}\")\n",
    "        return super().__new__(mcs, name, bases, namespace)\n",
    "\n",
    "class FinalClass(metaclass=FinalMeta):\n",
    "    def metodo(self):\n",
    "        return \"Método de clase final\"\n",
    "\n",
    "class Subclass(FinalClass):  # TypeError\n",
    "     pass"
   ]
  },
  {
   "cell_type": "code",
   "execution_count": null,
   "id": "82793324-bd9f-4021-860d-18b97c56cc2e",
   "metadata": {},
   "outputs": [],
   "source": [
    "class FinalMeta(type):\n",
    "    def __new__(mcs, name, bases, namespace):\n",
    "        for base in bases:\n",
    "            if isinstance(base, FinalMeta):\n",
    "                raise TypeError(f\"No se puede heredar de clase final: {base.__name__}\")\n",
    "        return super().__new__(mcs, name, bases, namespace)\n",
    "\n",
    "class Unheritable(metaclass=FinalMeta):\n",
    "    def foo(self):\n",
    "        print(\"Sin herencia permitida\")\n",
    "\n",
    "# class Child(Unheritable):  # TypeError\n",
    "#     pass"
   ]
  },
  {
   "cell_type": "raw",
   "id": "c11b2730-9073-46c7-a1f5-631bfb669703",
   "metadata": {},
   "source": [
    "Prevenir sobrescritura de métodos:\n"
   ]
  },
  {
   "cell_type": "code",
   "execution_count": null,
   "id": "546e5483-c140-4e98-b026-69f91d74b71f",
   "metadata": {},
   "outputs": [],
   "source": [
    "class Base:\n",
    "    def metodo(self):\n",
    "        return \"Base\"\n",
    "\n",
    "class Derivada(Base):\n",
    "    def metodo(self):\n",
    "        raise RuntimeError(\"Este método no debe ser sobreescrito.\")\n",
    "\n",
    "class Nieta(Derivada):\n",
    "     def metodo(self):\n",
    "         return \"Intento fallido\"  # Lanzará excepción si se llama\n"
   ]
  },
  {
   "cell_type": "code",
   "execution_count": null,
   "id": "664eb3e6-ced0-43cb-bbf3-eca5d6caedf1",
   "metadata": {},
   "outputs": [],
   "source": [
    "class FinalMethodBase:\n",
    "    def mi_metodo(self):\n",
    "        return \"No sobreescribas esto\"\n",
    "\n",
    "class FinalMethodSub(FinalMethodBase):\n",
    "    def mi_metodo(self):\n",
    "        raise NotImplementedError(\"No se permite sobrescribir mi_metodo\")"
   ]
  },
  {
   "cell_type": "raw",
   "id": "05f44a68-dc5f-4a12-9015-75206d94f52a",
   "metadata": {},
   "source": [
    "Ejercicios sobre metodos de sellado\n"
   ]
  },
  {
   "cell_type": "code",
   "execution_count": null,
   "id": "2d7e9a2c-259c-40ac-8113-1a63fee1e4dc",
   "metadata": {},
   "outputs": [],
   "source": [
    "### hilosss\n",
    "import threading\n",
    "import time\n",
    "\n",
    "def imprimir_mensaje(nombre, repeticiones):\n",
    "    for i in range(repeticiones):\n",
    "        print(f\"{nombre} - Mensaje {i+1}\")\n",
    "        time.sleep(1)\n",
    "\n",
    "# Crear dos hilos\n",
    "hilo1 = threading.Thread(target=imprimir_mensaje, args=(\"Hilo 1\", 3))\n",
    "hilo2 = threading.Thread(target=imprimir_mensaje, args=(\"Hilo 2\", 3))\n",
    "\n",
    "# Iniciar los hilos\n",
    "hilo1.start()\n",
    "hilo2.start()\n",
    "\n",
    "# Esperar a que ambos hilos terminen\n",
    "hilo1.join()\n",
    "hilo2.join()\n",
    "\n",
    "print(\"¡Todos los hilos han terminado!\")"
   ]
  },
  {
   "cell_type": "code",
   "execution_count": null,
   "id": "6f053ca5-c616-48d0-94ce-1fd69aa0ea7f",
   "metadata": {},
   "outputs": [],
   "source": [
    "#Lock evita que dos hilos modifiquen el contador al mismo tiempo.\n",
    "#Así, el valor final es correcto y no hay pérdida de datos por condiciones de carrera.\n",
    "import threading\n",
    "\n",
    "contador = 0\n",
    "lock = threading.Lock()\n",
    "\n",
    "def incrementar():\n",
    "    global contador\n",
    "    for _ in range(100000):\n",
    "        with lock: #cada vez que va a modificar el contador, usa with lock: para asegurarse de que solo un hilo a la vez pueda sumar.\n",
    "            contador += 1\n",
    "\n",
    "hilo1 = threading.Thread(target=incrementar)\n",
    "hilo2 = threading.Thread(target=incrementar)\n",
    "\n",
    "hilo1.start()\n",
    "hilo2.start()\n",
    "hilo1.join()\n",
    "hilo2.join()\n",
    "\n",
    "print(f\"Valor final del contador: {contador}\")"
   ]
  },
  {
   "cell_type": "code",
   "execution_count": null,
   "id": "64887bbe-d234-4488-9cda-06ed2cd4f760",
   "metadata": {},
   "outputs": [],
   "source": [
    "#Sincrónico\n",
    "import time\n",
    "\n",
    "def descargar():\n",
    "    print(\"Descargando...\")\n",
    "    time.sleep(2)\n",
    "    print(\"Descarga completa.\")\n",
    "\n",
    "descargar()\n",
    "descargar()\n"
   ]
  },
  {
   "cell_type": "code",
   "execution_count": null,
   "id": "703ccebe-6883-417b-a6af-484354121030",
   "metadata": {},
   "outputs": [],
   "source": [
    "import asyncio\n",
    "import nest_asyncio\n",
    "nest_asyncio.apply() # Permite usar asyncio en notebooks\n",
    "\n",
    "async def tarea(nombre):\n",
    "    print(f\"Inicia {nombre}\")\n",
    "    await asyncio.sleep(2)\n",
    "    print(f\"Termina {nombre}\")\n",
    "\n",
    "async def main():\n",
    "    await asyncio.gather(\n",
    "        tarea(\"Tarea 1\"),\n",
    "        tarea(\"Tarea 2\")\n",
    "    )\n",
    "    print(\"Fin del programa\")\n",
    "\n",
    "asyncio.run(main())"
   ]
  },
  {
   "cell_type": "code",
   "execution_count": null,
   "id": "9fd99c81-935a-4ee7-a6f8-b4e3753a8f02",
   "metadata": {},
   "outputs": [],
   "source": [
    "import asyncio\n",
    "import nest_asyncio\n",
    "nest_asyncio.apply()  # Permite usar asyncio en notebooks\n",
    "\n",
    "import time\n",
    "\n",
    "class Descargador:\n",
    "    def __init__(self, nombre):\n",
    "        self.nombre = nombre\n",
    "\n",
    "    async def descargar(self):\n",
    "        print(f\"Iniciando descarga {self.nombre}...\")\n",
    "        await asyncio.sleep(2)\n",
    "        print(f\"Descarga de {self.nombre} completa\")\n",
    "\n",
    "class GestorDescargas:\n",
    "    def __init__(self, nombres_archivos):\n",
    "        self.archivos = [Descargador(nombre) for nombre in nombres_archivos]\n",
    "\n",
    "    async def iniciar_descargas(self):\n",
    "        tareas = [archivo.descargar() for archivo in self.archivos]\n",
    "        await asyncio.gather(*tareas)\n",
    "\n",
    "# Medimos el tiempo de ejecución\n",
    "inicio = time.time()\n",
    "\n",
    "gestor = GestorDescargas([\"Archivo 1\", \"Archivo 2\", \"Archivo 3\"])\n",
    "await gestor.iniciar_descargas()\n",
    "\n",
    "fin = time.time()\n",
    "print(f\"Tiempo total: {fin - inicio:.2f} segundos\")\n"
   ]
  },
  {
   "cell_type": "code",
   "execution_count": null,
   "id": "6ef1fc86-7649-4c44-a263-4ed0c859da59",
   "metadata": {},
   "outputs": [],
   "source": []
  }
 ],
 "metadata": {
  "kernelspec": {
   "display_name": "Python [conda env:base] *",
   "language": "python",
   "name": "conda-base-py"
  },
  "language_info": {
   "codemirror_mode": {
    "name": "ipython",
    "version": 3
   },
   "file_extension": ".py",
   "mimetype": "text/x-python",
   "name": "python",
   "nbconvert_exporter": "python",
   "pygments_lexer": "ipython3",
   "version": "3.12.7"
  }
 },
 "nbformat": 4,
 "nbformat_minor": 5
}
