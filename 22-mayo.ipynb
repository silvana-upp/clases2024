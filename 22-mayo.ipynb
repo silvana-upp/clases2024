{
 "cells": [
  {
   "cell_type": "code",
   "execution_count": null,
   "id": "bad9c85f-de59-4d04-80bc-132751caa9fd",
   "metadata": {},
   "outputs": [],
   "source": [
    "#Sincrónico\n",
    "import time\n",
    "\n",
    "def descargar():\n",
    "    print(\"Descargando...\")\n",
    "    time.sleep(2)\n",
    "    print(\"Descarga completa.\")\n",
    "\n",
    "descargar()\n",
    "descargar()\n"
   ]
  },
  {
   "cell_type": "code",
   "execution_count": null,
   "id": "b24d7825-3636-4827-a2d3-f87dc601e8de",
   "metadata": {},
   "outputs": [],
   "source": [
    "import asyncio\n",
    "import nest_asyncio\n",
    "nest_asyncio.apply() # Permite usar asyncio en notebooks\n",
    "\n",
    "async def tarea(nombre):\n",
    "    print(f\"Inicia {nombre}\")\n",
    "    await asyncio.sleep(2)\n",
    "    print(f\"Termina {nombre}\")\n",
    "\n",
    "async def main():\n",
    "    await asyncio.gather(\n",
    "        tarea(\"Tarea 1\"),\n",
    "        tarea(\"Tarea 2\")\n",
    "    )\n",
    "    print(\"Fin del programa\")\n",
    "\n",
    "asyncio.run(main())"
   ]
  },
  {
   "cell_type": "code",
   "execution_count": null,
   "id": "df61ddca-4ae6-48ca-9365-5153224abf79",
   "metadata": {},
   "outputs": [],
   "source": [
    "import asyncio\n",
    "import nest_asyncio\n",
    "nest_asyncio.apply()  # Permite usar asyncio en notebooks\n",
    "\n",
    "import time\n",
    "\n",
    "class Descargador:\n",
    "    def __init__(self, nombre):\n",
    "        self.nombre = nombre\n",
    "\n",
    "    async def descargar(self):\n",
    "        print(f\"Iniciando descarga {self.nombre}...\")\n",
    "        await asyncio.sleep(2)\n",
    "        print(f\"Descarga de {self.nombre} completa\")\n",
    "\n",
    "class GestorDescargas:\n",
    "    def __init__(self, nombres_archivos):\n",
    "        self.archivos = [Descargador(nombre) for nombre in nombres_archivos]\n",
    "\n",
    "    async def iniciar_descargas(self):\n",
    "        tareas = [archivo.descargar() for archivo in self.archivos]\n",
    "        await asyncio.gather(*tareas)\n",
    "\n",
    "# Medimos el tiempo de ejecución\n",
    "inicio = time.time()\n",
    "\n",
    "gestor = GestorDescargas([\"Archivo 1\", \"Archivo 2\", \"Archivo 3\"])\n",
    "await gestor.iniciar_descargas()\n",
    "\n",
    "fin = time.time()\n",
    "print(f\"Tiempo total: {fin - inicio:.2f} segundos\")"
   ]
  },
  {
   "cell_type": "code",
   "execution_count": null,
   "id": "e01ba032-1304-4d64-90df-a552e55c9be6",
   "metadata": {},
   "outputs": [],
   "source": [
    "import multiprocessing\n",
    "import time\n",
    "\n",
    "def tarea(nombre):\n",
    "    print(f\"Inicia {nombre}\")\n",
    "    time.sleep(2)\n",
    "    print(f\"Termina {nombre}\")\n",
    "\n",
    "if __name__ == \"__main__\":\n",
    "    proceso1 = multiprocessing.Process(target=tarea, args=(\"Tarea 1\",))\n",
    "    proceso2 = multiprocessing.Process(target=tarea, args=(\"Tarea 2\",))\n",
    "\n",
    "    proceso1.start()\n",
    "    proceso2.start()\n",
    "    proceso1.join()\n",
    "    proceso2.join()\n",
    "\n",
    "    print(\"Fin del programa (paralelismo con procesos)\")"
   ]
  }
 ],
 "metadata": {
  "kernelspec": {
   "display_name": "Python [conda env:base] *",
   "language": "python",
   "name": "conda-base-py"
  },
  "language_info": {
   "codemirror_mode": {
    "name": "ipython",
    "version": 3
   },
   "file_extension": ".py",
   "mimetype": "text/x-python",
   "name": "python",
   "nbconvert_exporter": "python",
   "pygments_lexer": "ipython3",
   "version": "3.12.7"
  }
 },
 "nbformat": 4,
 "nbformat_minor": 5
}
