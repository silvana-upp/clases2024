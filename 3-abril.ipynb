{
 "cells": [
  {
   "cell_type": "code",
   "execution_count": 3,
   "id": "3771cb47-7b33-4542-9739-524fcb40594b",
   "metadata": {},
   "outputs": [
    {
     "name": "stdin",
     "output_type": "stream",
     "text": [
      "Enter an operator:  *\n"
     ]
    },
    {
     "name": "stdout",
     "output_type": "stream",
     "text": [
      "50\n"
     ]
    }
   ],
   "source": [
    "operator = input(\"Enter an operator: \")\n",
    "\n",
    "x = 5\n",
    "y = 10\n",
    "\n",
    "match operator:\n",
    "    case '+':\n",
    "        result = x + y\n",
    "    case '-':\n",
    "        result = x - y\n",
    "    case '*':\n",
    "        result = x * y\n",
    "    case '/':\n",
    "        result = x / y        \n",
    "\n",
    "print(result)"
   ]
  },
  {
   "cell_type": "code",
   "execution_count": 9,
   "id": "88140b63-3180-4ef5-808f-36d41037b619",
   "metadata": {},
   "outputs": [
    {
     "name": "stdin",
     "output_type": "stream",
     "text": [
      "Enter the status code:  77\n"
     ]
    },
    {
     "name": "stdout",
     "output_type": "stream",
     "text": [
      "Unknown status\n"
     ]
    }
   ],
   "source": [
    "status = int(input(\"Enter the status code: \"))\n",
    "\n",
    "match status:\n",
    "    case 200 | 201 | 202:\n",
    "        print(\"Success\")\n",
    "    case 400 | 401 | 403:\n",
    "        print(\"Client error\")\n",
    "    case 500 | 501 | 502:\n",
    "        print(\"Server error\")\n",
    "    case _:\n",
    "        print(\"Unknown status\")"
   ]
  },
  {
   "cell_type": "code",
   "execution_count": 13,
   "id": "885117e5-c6ea-402f-b1e0-9e2857a0fb13",
   "metadata": {},
   "outputs": [
    {
     "name": "stdin",
     "output_type": "stream",
     "text": [
      "Enter a subject:  Math\n",
      "Enter a score:  50\n"
     ]
    },
    {
     "name": "stdout",
     "output_type": "stream",
     "text": [
      "Needs improvement in Math!\n"
     ]
    }
   ],
   "source": [
    "subject = input(\"Enter a subject: \")\n",
    "score = int(input(\"Enter a score: \"))\n",
    "\n",
    "match subject:\n",
    "    # if score is 80 or higher in Physics or Chemistry\n",
    "    case 'Physics' | 'Chemistry' if score >= 80:\n",
    "        print(\"Excellent in Science!\")\n",
    "        \n",
    "    # if score is 80 or higher in English or Grammar\n",
    "    case 'English' | 'Grammar' if score >= 80:\n",
    "        print(\"Excellent in English!\")\n",
    "\n",
    "    # if score is 80 or higher in Maths\n",
    "    case 'Maths' if score >= 60:\n",
    "        print(\"Excellent in Maths!\")\n",
    "        \n",
    "    case _:\n",
    "        print(f\"Needs improvement in {subject}!\")"
   ]
  },
  {
   "cell_type": "raw",
   "id": "6c557e9a-55bc-46c6-8bb6-60ecfba9c39f",
   "metadata": {},
   "source": [
    "🔴 Ejercicio 1:\n",
    "Crea una función procesar_pedido(producto) que reciba el nombre de un producto como entrada.\n",
    "Usa match-case para manejar los siguientes casos:\n",
    "\"pizza\" → Imprimir \"Preparando tu pizza 🍕\"\n",
    "\"hamburguesa\" → Imprimir \"Tu hamburguesa estará lista en breve 🍔\"\n",
    "\"ensalada\" → Imprimir \"Sirviendo una ensalada fresca 🥗\"\n",
    "\"bebida\" → Pedir al usuario que elija entre \"agua\", \"refresco\" o \"jugo\" y responder con un mensaje acorde.\n",
    "Otro caso → Indicar que el producto no está en el menú."
   ]
  },
  {
   "cell_type": "code",
   "execution_count": 15,
   "id": "3fd5fb5a-203f-4fdd-83f7-3b614976d9fe",
   "metadata": {},
   "outputs": [
    {
     "name": "stdout",
     "output_type": "stream",
     "text": [
      "Python\n",
      "['Python', 'Python']\n",
      "Java es un lenguaje de programación. Java es popular y fácil de aprender.\n",
      "True\n",
      "False\n",
      "13\n"
     ]
    }
   ],
   "source": [
    "import re\n",
    "\n",
    "class Match:\n",
    "    def __init__(self, texto):\n",
    "        self.texto = texto\n",
    "\n",
    "    def encontrar_coincidencia(self, patron):\n",
    "        \"\"\"\n",
    "        Este método busca la primera coincidencia de un patrón en el texto.\n",
    "        \"\"\"\n",
    "        match = re.search(patron, self.texto)\n",
    "        return match.group() if match else None\n",
    "\n",
    "    def encontrar_todas_las_coincidencias(self, patron):\n",
    "        \"\"\"\n",
    "        Este método busca todas las coincidencias de un patrón en el texto.\n",
    "        \"\"\"\n",
    "        return re.findall(patron, self.texto)\n",
    "\n",
    "    def reemplazar_coincidencias(self, patron, reemplazo):\n",
    "        \"\"\"\n",
    "        Este método reemplaza todas las coincidencias de un patrón en el texto con un texto de reemplazo.\n",
    "        \"\"\"\n",
    "        return re.sub(patron, reemplazo, self.texto)\n",
    "\n",
    "    @classmethod\n",
    "    def es_patron_valido(cls, patron):\n",
    "        \"\"\"\n",
    "        Este método de clase verifica si un patrón de expresión regular es válido.\n",
    "        \"\"\"\n",
    "        try:\n",
    "            re.compile(patron)\n",
    "            return True\n",
    "        except re.error:\n",
    "            return False\n",
    "\n",
    "    @staticmethod\n",
    "    def contar_palabras(texto):\n",
    "        \"\"\"\n",
    "        Este método estático cuenta el número de palabras en un texto.\n",
    "        \"\"\"\n",
    "        palabras = re.findall(r'\\b\\w+\\b', texto)\n",
    "        return len(palabras)\n",
    "\n",
    "# Función para usar match...case\n",
    "def ejecutar_accion(accion, *args):\n",
    "    match accion:\n",
    "        case \"encontrar_coincidencia\":\n",
    "            return match_instance.encontrar_coincidencia(*args)\n",
    "        case \"encontrar_todas_las_coincidencias\":\n",
    "            return match_instance.encontrar_todas_las_coincidencias(*args)\n",
    "        case \"reemplazar_coincidencias\":\n",
    "            return match_instance.reemplazar_coincidencias(*args)\n",
    "        case \"es_patron_valido\":\n",
    "            return Match.es_patron_valido(*args)\n",
    "        case \"contar_palabras\":\n",
    "            return Match.contar_palabras(*args)\n",
    "        case _:\n",
    "            return \"Acción no reconocida\"\n",
    "\n",
    "# Ejemplo de uso de la clase Match con match...case\n",
    "\n",
    "texto = \"Python es un lenguaje de programación. Python es popular y fácil de aprender.\"\n",
    "\n",
    "# Crear una instancia de la clase Match\n",
    "match_instance = Match(texto)\n",
    "\n",
    "# Ejecutar diferentes acciones utilizando match...case\n",
    "print(ejecutar_accion(\"encontrar_coincidencia\", \"Python\"))  # Output: Python\n",
    "print(ejecutar_accion(\"encontrar_todas_las_coincidencias\", \"Python\"))  # Output: ['Python', 'Python']\n",
    "print(ejecutar_accion(\"reemplazar_coincidencias\", \"Python\", \"Java\"))  # Output: Java es un lenguaje de programación. Java es popular y fácil de aprender.\n",
    "print(ejecutar_accion(\"es_patron_valido\", \"[A-Z]\"))  # Output: True\n",
    "print(ejecutar_accion(\"es_patron_valido\", \"[A-Z\"))  # Output: False\n",
    "print(ejecutar_accion(\"contar_palabras\", texto))  # Output: 10"
   ]
  },
  {
   "cell_type": "code",
   "execution_count": 19,
   "id": "a3509d18-d35e-4ef1-983f-9914e0321553",
   "metadata": {},
   "outputs": [
    {
     "name": "stdout",
     "output_type": "stream",
     "text": [
      "Nombre reconocido: Juan Pérez. ¡Hola, Juan Pérez!\n",
      "Correo electrónico válido: ana.gomez@example.com. Se ha registrado correctamente.\n",
      "Fecha detectada: 15/08/1995. ¿Es una fecha de cumpleaños?\n",
      "Número de teléfono válido: +1-800-555-1234. Guardado en contactos.\n",
      "No se reconoce el formato de la entrada: invalid_data. Inténtelo de nuevo.\n"
     ]
    }
   ],
   "source": [
    "import re\n",
    "class ProcesadorDatos:\n",
    "    @staticmethod\n",
    "    def identificar_dato(entrada):\n",
    "        patrones = {\n",
    "            \"nombre\": r'^[A-ZÁÉÍÓÚÑ][a-záéíóúñ]+( [A-ZÁÉÍÓÚÑ][a-záéíóúñ]+)*$',  # Nombres con mayúsculas\n",
    "            \"email\": r'^[\\w\\.-]+@[\\w\\.-]+\\.\\w{2,}$',  # Correos electrónicos\n",
    "            \"fecha\": r'^\\d{2}/\\d{2}/\\d{4}$',  # Fechas en formato DD/MM/YYYY\n",
    "            \"teléfono\": r'^\\+?\\d{1,3}[-.\\s]?\\d{3}[-.\\s]?\\d{3,4}[-.\\s]?\\d{4}$'  # Teléfonos con distintos formatos\n",
    "        }\n",
    "\n",
    "        for tipo, patron in patrones.items():\n",
    "            if re.match(patron, entrada):\n",
    "                return tipo\n",
    "        return \"desconocido\"\n",
    "\n",
    "def procesar_entrada(entrada):\n",
    "    tipo = ProcesadorDatos.identificar_dato(entrada)\n",
    "    match tipo:\n",
    "        case \"nombre\":\n",
    "            print(f\"Nombre reconocido: {entrada}. ¡Hola, {entrada}!\")\n",
    "        case \"email\":\n",
    "            print(f\"Correo electrónico válido: {entrada}. Se ha registrado correctamente.\")\n",
    "        case \"fecha\":\n",
    "            print(f\"Fecha detectada: {entrada}. ¿Es una fecha de cumpleaños?\")\n",
    "        case \"teléfono\":\n",
    "            print(f\"Número de teléfono válido: {entrada}. Guardado en contactos.\")\n",
    "        case _:\n",
    "            print(f\"No se reconoce el formato de la entrada: {entrada}. Inténtelo de nuevo.\")\n",
    "# Pruebas con distintos datos\n",
    "datos = [\n",
    "    \"Juan Pérez\",\n",
    "    \"ana.gomez@example.com\",\n",
    "    \"15/08/1995\",\n",
    "    \"+1-800-555-1234\",\n",
    "    \"invalid_data\"\n",
    "]\n",
    "for dato in datos:\n",
    "    procesar_entrada(dato)"
   ]
  },
  {
   "cell_type": "raw",
   "id": "4c007a09-e7a0-4983-9419-3dc7de50151f",
   "metadata": {},
   "source": [
    "\n",
    "\n"
   ]
  },
  {
   "cell_type": "raw",
   "id": "eadd1fe8-a176-48d7-b92f-3d5ffb75ea74",
   "metadata": {},
   "source": []
  }
 ],
 "metadata": {
  "kernelspec": {
   "display_name": "Python 3 (ipykernel)",
   "language": "python",
   "name": "python3"
  },
  "language_info": {
   "codemirror_mode": {
    "name": "ipython",
    "version": 3
   },
   "file_extension": ".py",
   "mimetype": "text/x-python",
   "name": "python",
   "nbconvert_exporter": "python",
   "pygments_lexer": "ipython3",
   "version": "3.12.7"
  }
 },
 "nbformat": 4,
 "nbformat_minor": 5
}
